{
 "cells": [
  {
   "cell_type": "code",
   "execution_count": 2,
   "metadata": {
    "_cell_guid": "b1076dfc-b9ad-4769-8c92-a6c4dae69d19",
    "_uuid": "8f2839f25d086af736a60e9eeb907d3b93b6e0e5"
   },
   "outputs": [
    {
     "name": "stdout",
     "output_type": "stream",
     "text": [
      "/kaggle/input/titanic/gender_submission.csv\n",
      "/kaggle/input/titanic/test.csv\n",
      "/kaggle/input/titanic/train.csv\n"
     ]
    }
   ],
   "source": [
    "# This Python 3 environment comes with many helpful analytics libraries installed\n",
    "# It is defined by the kaggle/python Docker image: https://github.com/kaggle/docker-python\n",
    "# For example, here's several helpful packages to load\n",
    "\n",
    "import numpy as np # linear algebra\n",
    "import pandas as pd # data processing, CSV file I/O (e.g. pd.read_csv)\n",
    "\n",
    "# Input data files are available in the read-only \"../input/\" directory\n",
    "# For example, running this (by clicking run or pressing Shift+Enter) will list all files under the input directory\n",
    "\n",
    "import os\n",
    "for dirname, _, filenames in os.walk('/kaggle/input'):\n",
    "    for filename in filenames:\n",
    "        print(os.path.join(dirname, filename))\n",
    "\n",
    "# You can write up to 5GB to the current directory (/kaggle/working/) that gets preserved as output when you create a version using \"Save & Run All\" \n",
    "# You can also write temporary files to /kaggle/temp/, but they won't be saved outside of the current session"
   ]
  },
  {
   "cell_type": "code",
   "execution_count": 3,
   "metadata": {
    "_cell_guid": "79c7e3d0-c299-4dcb-8224-4455121ee9b0",
    "_uuid": "d629ff2d2480ee46fbb7e2d37f6b5fab8052498a"
   },
   "outputs": [],
   "source": [
    "train = pd.read_csv('../input/titanic/train.csv')"
   ]
  },
  {
   "cell_type": "code",
   "execution_count": 4,
   "metadata": {},
   "outputs": [
    {
     "data": {
      "text/html": [
       "<div>\n",
       "<style scoped>\n",
       "    .dataframe tbody tr th:only-of-type {\n",
       "        vertical-align: middle;\n",
       "    }\n",
       "\n",
       "    .dataframe tbody tr th {\n",
       "        vertical-align: top;\n",
       "    }\n",
       "\n",
       "    .dataframe thead th {\n",
       "        text-align: right;\n",
       "    }\n",
       "</style>\n",
       "<table border=\"1\" class=\"dataframe\">\n",
       "  <thead>\n",
       "    <tr style=\"text-align: right;\">\n",
       "      <th></th>\n",
       "      <th>PassengerId</th>\n",
       "      <th>Survived</th>\n",
       "      <th>Pclass</th>\n",
       "      <th>Name</th>\n",
       "      <th>Sex</th>\n",
       "      <th>Age</th>\n",
       "      <th>SibSp</th>\n",
       "      <th>Parch</th>\n",
       "      <th>Ticket</th>\n",
       "      <th>Fare</th>\n",
       "      <th>Cabin</th>\n",
       "      <th>Embarked</th>\n",
       "    </tr>\n",
       "  </thead>\n",
       "  <tbody>\n",
       "    <tr>\n",
       "      <th>0</th>\n",
       "      <td>1</td>\n",
       "      <td>0</td>\n",
       "      <td>3</td>\n",
       "      <td>Braund, Mr. Owen Harris</td>\n",
       "      <td>male</td>\n",
       "      <td>22.0</td>\n",
       "      <td>1</td>\n",
       "      <td>0</td>\n",
       "      <td>A/5 21171</td>\n",
       "      <td>7.2500</td>\n",
       "      <td>NaN</td>\n",
       "      <td>S</td>\n",
       "    </tr>\n",
       "    <tr>\n",
       "      <th>1</th>\n",
       "      <td>2</td>\n",
       "      <td>1</td>\n",
       "      <td>1</td>\n",
       "      <td>Cumings, Mrs. John Bradley (Florence Briggs Th...</td>\n",
       "      <td>female</td>\n",
       "      <td>38.0</td>\n",
       "      <td>1</td>\n",
       "      <td>0</td>\n",
       "      <td>PC 17599</td>\n",
       "      <td>71.2833</td>\n",
       "      <td>C85</td>\n",
       "      <td>C</td>\n",
       "    </tr>\n",
       "    <tr>\n",
       "      <th>2</th>\n",
       "      <td>3</td>\n",
       "      <td>1</td>\n",
       "      <td>3</td>\n",
       "      <td>Heikkinen, Miss. Laina</td>\n",
       "      <td>female</td>\n",
       "      <td>26.0</td>\n",
       "      <td>0</td>\n",
       "      <td>0</td>\n",
       "      <td>STON/O2. 3101282</td>\n",
       "      <td>7.9250</td>\n",
       "      <td>NaN</td>\n",
       "      <td>S</td>\n",
       "    </tr>\n",
       "    <tr>\n",
       "      <th>3</th>\n",
       "      <td>4</td>\n",
       "      <td>1</td>\n",
       "      <td>1</td>\n",
       "      <td>Futrelle, Mrs. Jacques Heath (Lily May Peel)</td>\n",
       "      <td>female</td>\n",
       "      <td>35.0</td>\n",
       "      <td>1</td>\n",
       "      <td>0</td>\n",
       "      <td>113803</td>\n",
       "      <td>53.1000</td>\n",
       "      <td>C123</td>\n",
       "      <td>S</td>\n",
       "    </tr>\n",
       "    <tr>\n",
       "      <th>4</th>\n",
       "      <td>5</td>\n",
       "      <td>0</td>\n",
       "      <td>3</td>\n",
       "      <td>Allen, Mr. William Henry</td>\n",
       "      <td>male</td>\n",
       "      <td>35.0</td>\n",
       "      <td>0</td>\n",
       "      <td>0</td>\n",
       "      <td>373450</td>\n",
       "      <td>8.0500</td>\n",
       "      <td>NaN</td>\n",
       "      <td>S</td>\n",
       "    </tr>\n",
       "  </tbody>\n",
       "</table>\n",
       "</div>"
      ],
      "text/plain": [
       "   PassengerId  Survived  Pclass  \\\n",
       "0            1         0       3   \n",
       "1            2         1       1   \n",
       "2            3         1       3   \n",
       "3            4         1       1   \n",
       "4            5         0       3   \n",
       "\n",
       "                                                Name     Sex   Age  SibSp  \\\n",
       "0                            Braund, Mr. Owen Harris    male  22.0      1   \n",
       "1  Cumings, Mrs. John Bradley (Florence Briggs Th...  female  38.0      1   \n",
       "2                             Heikkinen, Miss. Laina  female  26.0      0   \n",
       "3       Futrelle, Mrs. Jacques Heath (Lily May Peel)  female  35.0      1   \n",
       "4                           Allen, Mr. William Henry    male  35.0      0   \n",
       "\n",
       "   Parch            Ticket     Fare Cabin Embarked  \n",
       "0      0         A/5 21171   7.2500   NaN        S  \n",
       "1      0          PC 17599  71.2833   C85        C  \n",
       "2      0  STON/O2. 3101282   7.9250   NaN        S  \n",
       "3      0            113803  53.1000  C123        S  \n",
       "4      0            373450   8.0500   NaN        S  "
      ]
     },
     "execution_count": 4,
     "metadata": {},
     "output_type": "execute_result"
    }
   ],
   "source": [
    "train.head()"
   ]
  },
  {
   "cell_type": "code",
   "execution_count": 5,
   "metadata": {},
   "outputs": [
    {
     "data": {
      "text/plain": [
       "PassengerId      0\n",
       "Survived         0\n",
       "Pclass           0\n",
       "Name             0\n",
       "Sex              0\n",
       "Age            177\n",
       "SibSp            0\n",
       "Parch            0\n",
       "Ticket           0\n",
       "Fare             0\n",
       "Cabin          687\n",
       "Embarked         2\n",
       "dtype: int64"
      ]
     },
     "execution_count": 5,
     "metadata": {},
     "output_type": "execute_result"
    }
   ],
   "source": [
    "train.isnull().sum()"
   ]
  },
  {
   "cell_type": "markdown",
   "metadata": {},
   "source": [
    "**Let's deal with these features and figure out which one is needed in prediction of survival\n",
    "  There is no relation of survival with Name, PassengerID and Ticket these are some sort of unique Entry for every passenger so first we drop     these columns**"
   ]
  },
  {
   "cell_type": "code",
   "execution_count": 6,
   "metadata": {},
   "outputs": [],
   "source": [
    "train.drop(['Name','PassengerId','Ticket'], axis =1, inplace = True)"
   ]
  },
  {
   "cell_type": "code",
   "execution_count": 7,
   "metadata": {},
   "outputs": [
    {
     "data": {
      "text/plain": [
       "Survived      0\n",
       "Pclass        0\n",
       "Sex           0\n",
       "Age         177\n",
       "SibSp         0\n",
       "Parch         0\n",
       "Fare          0\n",
       "Cabin       687\n",
       "Embarked      2\n",
       "dtype: int64"
      ]
     },
     "execution_count": 7,
     "metadata": {},
     "output_type": "execute_result"
    }
   ],
   "source": [
    "train.isnull().sum()"
   ]
  },
  {
   "cell_type": "markdown",
   "metadata": {},
   "source": [
    "AS WE SEE THERE IS HIGH NUMBER OF NULL VALUES IN CABIN COLUMNS SO WE WILL DROP THIS COLUMN INSTEAD OF USING DROPNA BECUASE BY DROPNA WE LOOSE LOTS OF DATA"
   ]
  },
  {
   "cell_type": "code",
   "execution_count": 8,
   "metadata": {},
   "outputs": [],
   "source": [
    "train.drop('Cabin', axis =1, inplace = True)"
   ]
  },
  {
   "cell_type": "code",
   "execution_count": 10,
   "metadata": {},
   "outputs": [
    {
     "data": {
      "text/html": [
       "<div>\n",
       "<style scoped>\n",
       "    .dataframe tbody tr th:only-of-type {\n",
       "        vertical-align: middle;\n",
       "    }\n",
       "\n",
       "    .dataframe tbody tr th {\n",
       "        vertical-align: top;\n",
       "    }\n",
       "\n",
       "    .dataframe thead th {\n",
       "        text-align: right;\n",
       "    }\n",
       "</style>\n",
       "<table border=\"1\" class=\"dataframe\">\n",
       "  <thead>\n",
       "    <tr style=\"text-align: right;\">\n",
       "      <th></th>\n",
       "      <th>Survived</th>\n",
       "      <th>Pclass</th>\n",
       "      <th>Age</th>\n",
       "      <th>SibSp</th>\n",
       "      <th>Parch</th>\n",
       "      <th>Fare</th>\n",
       "    </tr>\n",
       "  </thead>\n",
       "  <tbody>\n",
       "    <tr>\n",
       "      <th>Survived</th>\n",
       "      <td>1.000000</td>\n",
       "      <td>-0.338481</td>\n",
       "      <td>-0.077221</td>\n",
       "      <td>-0.035322</td>\n",
       "      <td>0.081629</td>\n",
       "      <td>0.257307</td>\n",
       "    </tr>\n",
       "    <tr>\n",
       "      <th>Pclass</th>\n",
       "      <td>-0.338481</td>\n",
       "      <td>1.000000</td>\n",
       "      <td>-0.369226</td>\n",
       "      <td>0.083081</td>\n",
       "      <td>0.018443</td>\n",
       "      <td>-0.549500</td>\n",
       "    </tr>\n",
       "    <tr>\n",
       "      <th>Age</th>\n",
       "      <td>-0.077221</td>\n",
       "      <td>-0.369226</td>\n",
       "      <td>1.000000</td>\n",
       "      <td>-0.308247</td>\n",
       "      <td>-0.189119</td>\n",
       "      <td>0.096067</td>\n",
       "    </tr>\n",
       "    <tr>\n",
       "      <th>SibSp</th>\n",
       "      <td>-0.035322</td>\n",
       "      <td>0.083081</td>\n",
       "      <td>-0.308247</td>\n",
       "      <td>1.000000</td>\n",
       "      <td>0.414838</td>\n",
       "      <td>0.159651</td>\n",
       "    </tr>\n",
       "    <tr>\n",
       "      <th>Parch</th>\n",
       "      <td>0.081629</td>\n",
       "      <td>0.018443</td>\n",
       "      <td>-0.189119</td>\n",
       "      <td>0.414838</td>\n",
       "      <td>1.000000</td>\n",
       "      <td>0.216225</td>\n",
       "    </tr>\n",
       "    <tr>\n",
       "      <th>Fare</th>\n",
       "      <td>0.257307</td>\n",
       "      <td>-0.549500</td>\n",
       "      <td>0.096067</td>\n",
       "      <td>0.159651</td>\n",
       "      <td>0.216225</td>\n",
       "      <td>1.000000</td>\n",
       "    </tr>\n",
       "  </tbody>\n",
       "</table>\n",
       "</div>"
      ],
      "text/plain": [
       "          Survived    Pclass       Age     SibSp     Parch      Fare\n",
       "Survived  1.000000 -0.338481 -0.077221 -0.035322  0.081629  0.257307\n",
       "Pclass   -0.338481  1.000000 -0.369226  0.083081  0.018443 -0.549500\n",
       "Age      -0.077221 -0.369226  1.000000 -0.308247 -0.189119  0.096067\n",
       "SibSp    -0.035322  0.083081 -0.308247  1.000000  0.414838  0.159651\n",
       "Parch     0.081629  0.018443 -0.189119  0.414838  1.000000  0.216225\n",
       "Fare      0.257307 -0.549500  0.096067  0.159651  0.216225  1.000000"
      ]
     },
     "execution_count": 10,
     "metadata": {},
     "output_type": "execute_result"
    }
   ],
   "source": [
    "train.corr()"
   ]
  },
  {
   "cell_type": "code",
   "execution_count": 11,
   "metadata": {},
   "outputs": [
    {
     "data": {
      "text/plain": [
       "<matplotlib.axes._subplots.AxesSubplot at 0x7fd819d80710>"
      ]
     },
     "execution_count": 11,
     "metadata": {},
     "output_type": "execute_result"
    },
    {
     "data": {
      "image/png": "[encoded data removed]",
      "text/plain": [
       "<Figure size 432x288 with 2 Axes>"
      ]
     },
     "metadata": {
      "needs_background": "light"
     },
     "output_type": "display_data"
    }
   ],
   "source": [
    "import seaborn as sns\n",
    "sns.heatmap(train.corr())"
   ]
  },
  {
   "cell_type": "markdown",
   "metadata": {},
   "source": [
    "AS WE HAVE SOME MISSING DATA IN AGE SO LETS FILL THESE WITH MEAN OF AGE COLUMNS"
   ]
  },
  {
   "cell_type": "code",
   "execution_count": 12,
   "metadata": {},
   "outputs": [],
   "source": [
    "train['Age'] = train['Age'].fillna(np.mean(train['Age']))"
   ]
  },
  {
   "cell_type": "code",
   "execution_count": 13,
   "metadata": {},
   "outputs": [
    {
     "data": {
      "text/plain": [
       "Survived    0\n",
       "Pclass      0\n",
       "Sex         0\n",
       "Age         0\n",
       "SibSp       0\n",
       "Parch       0\n",
       "Fare        0\n",
       "Embarked    2\n",
       "dtype: int64"
      ]
     },
     "execution_count": 13,
     "metadata": {},
     "output_type": "execute_result"
    }
   ],
   "source": [
    "train.isnull().sum()"
   ]
  },
  {
   "cell_type": "markdown",
   "metadata": {},
   "source": [
    "we have only 2 mising in Embarked so lets drop these rows"
   ]
  },
  {
   "cell_type": "raw",
   "metadata": {},
   "source": [
    "train.dropna(inplace = True)"
   ]
  },
  {
   "cell_type": "code",
   "execution_count": 14,
   "metadata": {},
   "outputs": [
    {
     "data": {
      "text/html": [
       "<div>\n",
       "<style scoped>\n",
       "    .dataframe tbody tr th:only-of-type {\n",
       "        vertical-align: middle;\n",
       "    }\n",
       "\n",
       "    .dataframe tbody tr th {\n",
       "        vertical-align: top;\n",
       "    }\n",
       "\n",
       "    .dataframe thead th {\n",
       "        text-align: right;\n",
       "    }\n",
       "</style>\n",
       "<table border=\"1\" class=\"dataframe\">\n",
       "  <thead>\n",
       "    <tr style=\"text-align: right;\">\n",
       "      <th></th>\n",
       "      <th>Survived</th>\n",
       "      <th>Pclass</th>\n",
       "      <th>Sex</th>\n",
       "      <th>Age</th>\n",
       "      <th>SibSp</th>\n",
       "      <th>Parch</th>\n",
       "      <th>Fare</th>\n",
       "      <th>Embarked</th>\n",
       "    </tr>\n",
       "  </thead>\n",
       "  <tbody>\n",
       "    <tr>\n",
       "      <th>0</th>\n",
       "      <td>0</td>\n",
       "      <td>3</td>\n",
       "      <td>male</td>\n",
       "      <td>22.000000</td>\n",
       "      <td>1</td>\n",
       "      <td>0</td>\n",
       "      <td>7.2500</td>\n",
       "      <td>S</td>\n",
       "    </tr>\n",
       "    <tr>\n",
       "      <th>1</th>\n",
       "      <td>1</td>\n",
       "      <td>1</td>\n",
       "      <td>female</td>\n",
       "      <td>38.000000</td>\n",
       "      <td>1</td>\n",
       "      <td>0</td>\n",
       "      <td>71.2833</td>\n",
       "      <td>C</td>\n",
       "    </tr>\n",
       "    <tr>\n",
       "      <th>2</th>\n",
       "      <td>1</td>\n",
       "      <td>3</td>\n",
       "      <td>female</td>\n",
       "      <td>26.000000</td>\n",
       "      <td>0</td>\n",
       "      <td>0</td>\n",
       "      <td>7.9250</td>\n",
       "      <td>S</td>\n",
       "    </tr>\n",
       "    <tr>\n",
       "      <th>3</th>\n",
       "      <td>1</td>\n",
       "      <td>1</td>\n",
       "      <td>female</td>\n",
       "      <td>35.000000</td>\n",
       "      <td>1</td>\n",
       "      <td>0</td>\n",
       "      <td>53.1000</td>\n",
       "      <td>S</td>\n",
       "    </tr>\n",
       "    <tr>\n",
       "      <th>4</th>\n",
       "      <td>0</td>\n",
       "      <td>3</td>\n",
       "      <td>male</td>\n",
       "      <td>35.000000</td>\n",
       "      <td>0</td>\n",
       "      <td>0</td>\n",
       "      <td>8.0500</td>\n",
       "      <td>S</td>\n",
       "    </tr>\n",
       "    <tr>\n",
       "      <th>...</th>\n",
       "      <td>...</td>\n",
       "      <td>...</td>\n",
       "      <td>...</td>\n",
       "      <td>...</td>\n",
       "      <td>...</td>\n",
       "      <td>...</td>\n",
       "      <td>...</td>\n",
       "      <td>...</td>\n",
       "    </tr>\n",
       "    <tr>\n",
       "      <th>886</th>\n",
       "      <td>0</td>\n",
       "      <td>2</td>\n",
       "      <td>male</td>\n",
       "      <td>27.000000</td>\n",
       "      <td>0</td>\n",
       "      <td>0</td>\n",
       "      <td>13.0000</td>\n",
       "      <td>S</td>\n",
       "    </tr>\n",
       "    <tr>\n",
       "      <th>887</th>\n",
       "      <td>1</td>\n",
       "      <td>1</td>\n",
       "      <td>female</td>\n",
       "      <td>19.000000</td>\n",
       "      <td>0</td>\n",
       "      <td>0</td>\n",
       "      <td>30.0000</td>\n",
       "      <td>S</td>\n",
       "    </tr>\n",
       "    <tr>\n",
       "      <th>888</th>\n",
       "      <td>0</td>\n",
       "      <td>3</td>\n",
       "      <td>female</td>\n",
       "      <td>29.699118</td>\n",
       "      <td>1</td>\n",
       "      <td>2</td>\n",
       "      <td>23.4500</td>\n",
       "      <td>S</td>\n",
       "    </tr>\n",
       "    <tr>\n",
       "      <th>889</th>\n",
       "      <td>1</td>\n",
       "      <td>1</td>\n",
       "      <td>male</td>\n",
       "      <td>26.000000</td>\n",
       "      <td>0</td>\n",
       "      <td>0</td>\n",
       "      <td>30.0000</td>\n",
       "      <td>C</td>\n",
       "    </tr>\n",
       "    <tr>\n",
       "      <th>890</th>\n",
       "      <td>0</td>\n",
       "      <td>3</td>\n",
       "      <td>male</td>\n",
       "      <td>32.000000</td>\n",
       "      <td>0</td>\n",
       "      <td>0</td>\n",
       "      <td>7.7500</td>\n",
       "      <td>Q</td>\n",
       "    </tr>\n",
       "  </tbody>\n",
       "</table>\n",
       "<p>891 rows × 8 columns</p>\n",
       "</div>"
      ],
      "text/plain": [
       "     Survived  Pclass     Sex        Age  SibSp  Parch     Fare Embarked\n",
       "0           0       3    male  22.000000      1      0   7.2500        S\n",
       "1           1       1  female  38.000000      1      0  71.2833        C\n",
       "2           1       3  female  26.000000      0      0   7.9250        S\n",
       "3           1       1  female  35.000000      1      0  53.1000        S\n",
       "4           0       3    male  35.000000      0      0   8.0500        S\n",
       "..        ...     ...     ...        ...    ...    ...      ...      ...\n",
       "886         0       2    male  27.000000      0      0  13.0000        S\n",
       "887         1       1  female  19.000000      0      0  30.0000        S\n",
       "888         0       3  female  29.699118      1      2  23.4500        S\n",
       "889         1       1    male  26.000000      0      0  30.0000        C\n",
       "890         0       3    male  32.000000      0      0   7.7500        Q\n",
       "\n",
       "[891 rows x 8 columns]"
      ]
     },
     "execution_count": 14,
     "metadata": {},
     "output_type": "execute_result"
    }
   ],
   "source": [
    "train"
   ]
  },
  {
   "cell_type": "markdown",
   "metadata": {},
   "source": [
    "**Time to visualize **"
   ]
  },
  {
   "cell_type": "code",
   "execution_count": 15,
   "metadata": {},
   "outputs": [],
   "source": [
    "import matplotlib.pyplot as plt\n",
    "import seaborn as sns\n",
    "%matplotlib inline"
   ]
  },
  {
   "cell_type": "code",
   "execution_count": 16,
   "metadata": {},
   "outputs": [
    {
     "data": {
      "text/plain": [
       "<matplotlib.axes._subplots.AxesSubplot at 0x7fd819d80750>"
      ]
     },
     "execution_count": 16,
     "metadata": {},
     "output_type": "execute_result"
    },
    {
     "data": {
      "image/png": "[encoded data removed]",
      "text/plain": [
       "<Figure size 864x432 with 1 Axes>"
      ]
     },
     "metadata": {
      "needs_background": "light"
     },
     "output_type": "display_data"
    }
   ],
   "source": [
    "plt.figure(figsize = (12,6))\n",
    "sns.countplot(train['Survived'])"
   ]
  },
  {
   "cell_type": "markdown",
   "metadata": {},
   "source": [
    "**From this count plot we see that the number to person died is more than survived**"
   ]
  },
  {
   "cell_type": "code",
   "execution_count": 17,
   "metadata": {},
   "outputs": [
    {
     "data": {
      "text/plain": [
       "<matplotlib.axes._subplots.AxesSubplot at 0x7fd817a45c50>"
      ]
     },
     "execution_count": 17,
     "metadata": {},
     "output_type": "execute_result"
    },
    {
     "data": {
      "image/png": "[encoded data removed]",
      "text/plain": [
       "<Figure size 1440x576 with 2 Axes>"
      ]
     },
     "metadata": {
      "needs_background": "light"
     },
     "output_type": "display_data"
    }
   ],
   "source": [
    "plt.figure(figsize = (20,8))\n",
    "sns.heatmap(train.corr(), annot = True)"
   ]
  },
  {
   "cell_type": "markdown",
   "metadata": {},
   "source": [
    "**Correlation is not much high in between**"
   ]
  },
  {
   "cell_type": "code",
   "execution_count": 18,
   "metadata": {},
   "outputs": [
    {
     "data": {
      "text/plain": [
       "<matplotlib.axes._subplots.AxesSubplot at 0x7fd8179ded50>"
      ]
     },
     "execution_count": 18,
     "metadata": {},
     "output_type": "execute_result"
    },
    {
     "data": {
      "image/png": "[encoded data removed]",
      "text/plain": [
       "<Figure size 1080x576 with 1 Axes>"
      ]
     },
     "metadata": {
      "needs_background": "light"
     },
     "output_type": "display_data"
    }
   ],
   "source": [
    "plt.figure(figsize = (15,8))\n",
    "sns.scatterplot(train['Survived'],train['Fare'])"
   ]
  },
  {
   "cell_type": "code",
   "execution_count": 19,
   "metadata": {},
   "outputs": [
    {
     "name": "stdout",
     "output_type": "stream",
     "text": [
      "[3 1 2]\n",
      "['S' 'C' 'Q' nan]\n"
     ]
    }
   ],
   "source": [
    "print(train['Pclass'].unique())\n",
    "print(train['Embarked'].unique())"
   ]
  },
  {
   "cell_type": "markdown",
   "metadata": {},
   "source": [
    "Lets go for categorical columns"
   ]
  },
  {
   "cell_type": "code",
   "execution_count": 20,
   "metadata": {},
   "outputs": [],
   "source": [
    "sex = pd.get_dummies(train['Sex'], drop_first = True)\n",
    "embark = pd.get_dummies(train['Embarked'], drop_first = True)\n",
    "p = pd.get_dummies(train['Pclass'], drop_first = True)"
   ]
  },
  {
   "cell_type": "code",
   "execution_count": 21,
   "metadata": {},
   "outputs": [],
   "source": [
    "train = pd.concat([sex,train,embark,p], axis =1)"
   ]
  },
  {
   "cell_type": "code",
   "execution_count": 22,
   "metadata": {},
   "outputs": [],
   "source": [
    "train.drop(['Pclass','Sex','Embarked'], axis =1, inplace = True)"
   ]
  },
  {
   "cell_type": "markdown",
   "metadata": {},
   "source": [
    "Now we all set for training our model"
   ]
  },
  {
   "cell_type": "markdown",
   "metadata": {},
   "source": [
    "I am using Logistic Regression"
   ]
  },
  {
   "cell_type": "code",
   "execution_count": 23,
   "metadata": {},
   "outputs": [],
   "source": [
    "from sklearn.linear_model import LogisticRegression"
   ]
  },
  {
   "cell_type": "code",
   "execution_count": 24,
   "metadata": {},
   "outputs": [],
   "source": [
    "x = train.drop('Survived', axis =1)\n",
    "y = train['Survived']"
   ]
  },
  {
   "cell_type": "code",
   "execution_count": 25,
   "metadata": {},
   "outputs": [],
   "source": [
    "model = LogisticRegression()"
   ]
  },
  {
   "cell_type": "code",
   "execution_count": 26,
   "metadata": {},
   "outputs": [
    {
     "name": "stderr",
     "output_type": "stream",
     "text": [
      "/opt/conda/lib/python3.7/site-packages/sklearn/linear_model/_logistic.py:764: ConvergenceWarning: lbfgs failed to converge (status=1):\n",
      "STOP: TOTAL NO. of ITERATIONS REACHED LIMIT.\n",
      "\n",
      "Increase the number of iterations (max_iter) or scale the data as shown in:\n",
      "    https://scikit-learn.org/stable/modules/preprocessing.html\n",
      "Please also refer to the documentation for alternative solver options:\n",
      "    https://scikit-learn.org/stable/modules/linear_model.html#logistic-regression\n",
      "  extra_warning_msg=_LOGISTIC_SOLVER_CONVERGENCE_MSG)\n"
     ]
    },
    {
     "data": {
      "text/plain": [
       "LogisticRegression()"
      ]
     },
     "execution_count": 26,
     "metadata": {},
     "output_type": "execute_result"
    }
   ],
   "source": [
    "model.fit(x,y)"
   ]
  },
  {
   "cell_type": "code",
   "execution_count": 27,
   "metadata": {},
   "outputs": [],
   "source": [
    "test = pd.read_csv('../input/titanic/test.csv')\n",
    "test_x = pd.read_csv('../input/titanic/test.csv')"
   ]
  },
  {
   "cell_type": "code",
   "execution_count": 28,
   "metadata": {},
   "outputs": [],
   "source": [
    "test['Age'] = test['Age'].fillna(np.mean(test['Age']))"
   ]
  },
  {
   "cell_type": "code",
   "execution_count": 29,
   "metadata": {},
   "outputs": [],
   "source": [
    "test['Fare'] = test['Fare'].fillna(np.mean(test['Fare']))"
   ]
  },
  {
   "cell_type": "code",
   "execution_count": 30,
   "metadata": {},
   "outputs": [
    {
     "data": {
      "text/plain": [
       "PassengerId      0\n",
       "Pclass           0\n",
       "Name             0\n",
       "Sex              0\n",
       "Age              0\n",
       "SibSp            0\n",
       "Parch            0\n",
       "Ticket           0\n",
       "Fare             0\n",
       "Cabin          327\n",
       "Embarked         0\n",
       "dtype: int64"
      ]
     },
     "execution_count": 30,
     "metadata": {},
     "output_type": "execute_result"
    }
   ],
   "source": [
    "test.isnull().sum()"
   ]
  },
  {
   "cell_type": "code",
   "execution_count": 31,
   "metadata": {},
   "outputs": [],
   "source": [
    "sex_t = pd.get_dummies(test['Sex'], drop_first = True)\n",
    "embark_t = pd.get_dummies(test['Embarked'], drop_first = True)\n",
    "p_t = pd.get_dummies(test['Pclass'], drop_first = True)"
   ]
  },
  {
   "cell_type": "code",
   "execution_count": 32,
   "metadata": {},
   "outputs": [],
   "source": [
    "test = pd.concat([sex_t,test,embark_t,p_t], axis =1)"
   ]
  },
  {
   "cell_type": "code",
   "execution_count": 33,
   "metadata": {},
   "outputs": [],
   "source": [
    "test.drop(['PassengerId','Name','Sex','Pclass','Ticket','Embarked','Cabin'], axis =1, inplace = True)"
   ]
  },
  {
   "cell_type": "code",
   "execution_count": 34,
   "metadata": {},
   "outputs": [
    {
     "data": {
      "text/html": [
       "<div>\n",
       "<style scoped>\n",
       "    .dataframe tbody tr th:only-of-type {\n",
       "        vertical-align: middle;\n",
       "    }\n",
       "\n",
       "    .dataframe tbody tr th {\n",
       "        vertical-align: top;\n",
       "    }\n",
       "\n",
       "    .dataframe thead th {\n",
       "        text-align: right;\n",
       "    }\n",
       "</style>\n",
       "<table border=\"1\" class=\"dataframe\">\n",
       "  <thead>\n",
       "    <tr style=\"text-align: right;\">\n",
       "      <th></th>\n",
       "      <th>male</th>\n",
       "      <th>Age</th>\n",
       "      <th>SibSp</th>\n",
       "      <th>Parch</th>\n",
       "      <th>Fare</th>\n",
       "      <th>Q</th>\n",
       "      <th>S</th>\n",
       "      <th>2</th>\n",
       "      <th>3</th>\n",
       "    </tr>\n",
       "  </thead>\n",
       "  <tbody>\n",
       "    <tr>\n",
       "      <th>0</th>\n",
       "      <td>1</td>\n",
       "      <td>34.50000</td>\n",
       "      <td>0</td>\n",
       "      <td>0</td>\n",
       "      <td>7.8292</td>\n",
       "      <td>1</td>\n",
       "      <td>0</td>\n",
       "      <td>0</td>\n",
       "      <td>1</td>\n",
       "    </tr>\n",
       "    <tr>\n",
       "      <th>1</th>\n",
       "      <td>0</td>\n",
       "      <td>47.00000</td>\n",
       "      <td>1</td>\n",
       "      <td>0</td>\n",
       "      <td>7.0000</td>\n",
       "      <td>0</td>\n",
       "      <td>1</td>\n",
       "      <td>0</td>\n",
       "      <td>1</td>\n",
       "    </tr>\n",
       "    <tr>\n",
       "      <th>2</th>\n",
       "      <td>1</td>\n",
       "      <td>62.00000</td>\n",
       "      <td>0</td>\n",
       "      <td>0</td>\n",
       "      <td>9.6875</td>\n",
       "      <td>1</td>\n",
       "      <td>0</td>\n",
       "      <td>1</td>\n",
       "      <td>0</td>\n",
       "    </tr>\n",
       "    <tr>\n",
       "      <th>3</th>\n",
       "      <td>1</td>\n",
       "      <td>27.00000</td>\n",
       "      <td>0</td>\n",
       "      <td>0</td>\n",
       "      <td>8.6625</td>\n",
       "      <td>0</td>\n",
       "      <td>1</td>\n",
       "      <td>0</td>\n",
       "      <td>1</td>\n",
       "    </tr>\n",
       "    <tr>\n",
       "      <th>4</th>\n",
       "      <td>0</td>\n",
       "      <td>22.00000</td>\n",
       "      <td>1</td>\n",
       "      <td>1</td>\n",
       "      <td>12.2875</td>\n",
       "      <td>0</td>\n",
       "      <td>1</td>\n",
       "      <td>0</td>\n",
       "      <td>1</td>\n",
       "    </tr>\n",
       "    <tr>\n",
       "      <th>...</th>\n",
       "      <td>...</td>\n",
       "      <td>...</td>\n",
       "      <td>...</td>\n",
       "      <td>...</td>\n",
       "      <td>...</td>\n",
       "      <td>...</td>\n",
       "      <td>...</td>\n",
       "      <td>...</td>\n",
       "      <td>...</td>\n",
       "    </tr>\n",
       "    <tr>\n",
       "      <th>413</th>\n",
       "      <td>1</td>\n",
       "      <td>30.27259</td>\n",
       "      <td>0</td>\n",
       "      <td>0</td>\n",
       "      <td>8.0500</td>\n",
       "      <td>0</td>\n",
       "      <td>1</td>\n",
       "      <td>0</td>\n",
       "      <td>1</td>\n",
       "    </tr>\n",
       "    <tr>\n",
       "      <th>414</th>\n",
       "      <td>0</td>\n",
       "      <td>39.00000</td>\n",
       "      <td>0</td>\n",
       "      <td>0</td>\n",
       "      <td>108.9000</td>\n",
       "      <td>0</td>\n",
       "      <td>0</td>\n",
       "      <td>0</td>\n",
       "      <td>0</td>\n",
       "    </tr>\n",
       "    <tr>\n",
       "      <th>415</th>\n",
       "      <td>1</td>\n",
       "      <td>38.50000</td>\n",
       "      <td>0</td>\n",
       "      <td>0</td>\n",
       "      <td>7.2500</td>\n",
       "      <td>0</td>\n",
       "      <td>1</td>\n",
       "      <td>0</td>\n",
       "      <td>1</td>\n",
       "    </tr>\n",
       "    <tr>\n",
       "      <th>416</th>\n",
       "      <td>1</td>\n",
       "      <td>30.27259</td>\n",
       "      <td>0</td>\n",
       "      <td>0</td>\n",
       "      <td>8.0500</td>\n",
       "      <td>0</td>\n",
       "      <td>1</td>\n",
       "      <td>0</td>\n",
       "      <td>1</td>\n",
       "    </tr>\n",
       "    <tr>\n",
       "      <th>417</th>\n",
       "      <td>1</td>\n",
       "      <td>30.27259</td>\n",
       "      <td>1</td>\n",
       "      <td>1</td>\n",
       "      <td>22.3583</td>\n",
       "      <td>0</td>\n",
       "      <td>0</td>\n",
       "      <td>0</td>\n",
       "      <td>1</td>\n",
       "    </tr>\n",
       "  </tbody>\n",
       "</table>\n",
       "<p>418 rows × 9 columns</p>\n",
       "</div>"
      ],
      "text/plain": [
       "     male       Age  SibSp  Parch      Fare  Q  S  2  3\n",
       "0       1  34.50000      0      0    7.8292  1  0  0  1\n",
       "1       0  47.00000      1      0    7.0000  0  1  0  1\n",
       "2       1  62.00000      0      0    9.6875  1  0  1  0\n",
       "3       1  27.00000      0      0    8.6625  0  1  0  1\n",
       "4       0  22.00000      1      1   12.2875  0  1  0  1\n",
       "..    ...       ...    ...    ...       ... .. .. .. ..\n",
       "413     1  30.27259      0      0    8.0500  0  1  0  1\n",
       "414     0  39.00000      0      0  108.9000  0  0  0  0\n",
       "415     1  38.50000      0      0    7.2500  0  1  0  1\n",
       "416     1  30.27259      0      0    8.0500  0  1  0  1\n",
       "417     1  30.27259      1      1   22.3583  0  0  0  1\n",
       "\n",
       "[418 rows x 9 columns]"
      ]
     },
     "execution_count": 34,
     "metadata": {},
     "output_type": "execute_result"
    }
   ],
   "source": [
    "test"
   ]
  },
  {
   "cell_type": "code",
   "execution_count": 35,
   "metadata": {},
   "outputs": [],
   "source": [
    "prediction = model.predict(test)"
   ]
  },
  {
   "cell_type": "code",
   "execution_count": null,
   "metadata": {},
   "outputs": [],
   "source": [
    "output = pd.DataFrame({'PassengerId' : test_x.PassengerId, 'Survived':prediction})\n",
    "output.to_csv('Submission.csv', index = False)\n",
    "output.head()"
   ]
  },
  {
   "cell_type": "markdown",
   "metadata": {},
   "source": [
    "for Logistic Regression i got 16k rank so used Random Forest Classifier"
   ]
  },
  {
   "cell_type": "code",
   "execution_count": null,
   "metadata": {},
   "outputs": [],
   "source": []
  },
  {
   "cell_type": "code",
   "execution_count": 39,
   "metadata": {},
   "outputs": [],
   "source": [
    "from sklearn.ensemble import RandomForestClassifier"
   ]
  },
  {
   "cell_type": "code",
   "execution_count": 40,
   "metadata": {},
   "outputs": [],
   "source": [
    "rf = RandomForestClassifier()"
   ]
  },
  {
   "cell_type": "code",
   "execution_count": 54,
   "metadata": {},
   "outputs": [],
   "source": [
    "n_estimators = [int(x) for x in np.linspace(20,400,num = 20)]\n",
    "max_depth = [int(x) for x in np.linspace(1,100,num = 10)]\n",
    "min_samples_split = [2,3,5,7,8]\n",
    "min_samples_leaf = [2,3,5,8]\n",
    "bootstrap = [True,False]"
   ]
  },
  {
   "cell_type": "code",
   "execution_count": 55,
   "metadata": {},
   "outputs": [],
   "source": [
    "random_para = {'n_estimators' : n_estimators,\n",
    "               'max_depth' : max_depth,\n",
    "                'min_samples_split' : min_samples_split,\n",
    "                'min_samples_leaf' : min_samples_leaf,\n",
    "                'bootstrap' : bootstrap}"
   ]
  },
  {
   "cell_type": "code",
   "execution_count": 56,
   "metadata": {},
   "outputs": [],
   "source": [
    "from sklearn.model_selection import RandomizedSearchCV"
   ]
  },
  {
   "cell_type": "code",
   "execution_count": 57,
   "metadata": {},
   "outputs": [],
   "source": [
    "random = RandomizedSearchCV(estimator = rf, param_distributions = random_para, cv = 3, n_iter = 100, verbose = 5)"
   ]
  },
  {
   "cell_type": "code",
   "execution_count": 58,
   "metadata": {},
   "outputs": [
    {
     "name": "stdout",
     "output_type": "stream",
     "text": [
      "Fitting 3 folds for each of 100 candidates, totalling 300 fits\n",
      "[CV] n_estimators=160, min_samples_split=3, min_samples_leaf=2, max_depth=56, bootstrap=False \n"
     ]
    },
    {
     "name": "stderr",
     "output_type": "stream",
     "text": [
      "[Parallel(n_jobs=1)]: Using backend SequentialBackend with 1 concurrent workers.\n"
     ]
    },
    {
     "name": "stdout",
     "output_type": "stream",
     "text": [
      "[CV]  n_estimators=160, min_samples_split=3, min_samples_leaf=2, max_depth=56, bootstrap=False, score=0.788, total=   0.3s\n",
      "[CV] n_estimators=160, min_samples_split=3, min_samples_leaf=2, max_depth=56, bootstrap=False \n"
     ]
    },
    {
     "name": "stderr",
     "output_type": "stream",
     "text": [
      "[Parallel(n_jobs=1)]: Done   1 out of   1 | elapsed:    0.3s remaining:    0.0s\n"
     ]
    },
    {
     "name": "stdout",
     "output_type": "stream",
     "text": [
      "[CV]  n_estimators=160, min_samples_split=3, min_samples_leaf=2, max_depth=56, bootstrap=False, score=0.825, total=   0.3s\n",
      "[CV] n_estimators=160, min_samples_split=3, min_samples_leaf=2, max_depth=56, bootstrap=False \n"
     ]
    },
    {
     "name": "stderr",
     "output_type": "stream",
     "text": [
      "[Parallel(n_jobs=1)]: Done   2 out of   2 | elapsed:    0.6s remaining:    0.0s\n"
     ]
    },
    {
     "name": "stdout",
     "output_type": "stream",
     "text": [
      "[CV]  n_estimators=160, min_samples_split=3, min_samples_leaf=2, max_depth=56, bootstrap=False, score=0.818, total=   0.3s\n",
      "[CV] n_estimators=80, min_samples_split=8, min_samples_leaf=8, max_depth=23, bootstrap=False \n",
      "[CV]  n_estimators=80, min_samples_split=8, min_samples_leaf=8, max_depth=23, bootstrap=False, score=0.788, total=   0.1s\n",
      "[CV] n_estimators=80, min_samples_split=8, min_samples_leaf=8, max_depth=23, bootstrap=False \n"
     ]
    },
    {
     "name": "stderr",
     "output_type": "stream",
     "text": [
      "[Parallel(n_jobs=1)]: Done   3 out of   3 | elapsed:    0.9s remaining:    0.0s\n",
      "[Parallel(n_jobs=1)]: Done   4 out of   4 | elapsed:    1.0s remaining:    0.0s\n"
     ]
    },
    {
     "name": "stdout",
     "output_type": "stream",
     "text": [
      "[CV]  n_estimators=80, min_samples_split=8, min_samples_leaf=8, max_depth=23, bootstrap=False, score=0.852, total=   0.1s\n",
      "[CV] n_estimators=80, min_samples_split=8, min_samples_leaf=8, max_depth=23, bootstrap=False \n",
      "[CV]  n_estimators=80, min_samples_split=8, min_samples_leaf=8, max_depth=23, bootstrap=False, score=0.818, total=   0.1s\n",
      "[CV] n_estimators=40, min_samples_split=8, min_samples_leaf=5, max_depth=34, bootstrap=False \n",
      "[CV]  n_estimators=40, min_samples_split=8, min_samples_leaf=5, max_depth=34, bootstrap=False, score=0.801, total=   0.1s\n",
      "[CV] n_estimators=40, min_samples_split=8, min_samples_leaf=5, max_depth=34, bootstrap=False \n",
      "[CV]  n_estimators=40, min_samples_split=8, min_samples_leaf=5, max_depth=34, bootstrap=False, score=0.838, total=   0.1s\n",
      "[CV] n_estimators=40, min_samples_split=8, min_samples_leaf=5, max_depth=34, bootstrap=False \n",
      "[CV]  n_estimators=40, min_samples_split=8, min_samples_leaf=5, max_depth=34, bootstrap=False, score=0.822, total=   0.1s\n",
      "[CV] n_estimators=300, min_samples_split=3, min_samples_leaf=5, max_depth=45, bootstrap=False \n",
      "[CV]  n_estimators=300, min_samples_split=3, min_samples_leaf=5, max_depth=45, bootstrap=False, score=0.781, total=   0.5s\n",
      "[CV] n_estimators=300, min_samples_split=3, min_samples_leaf=5, max_depth=45, bootstrap=False \n",
      "[CV]  n_estimators=300, min_samples_split=3, min_samples_leaf=5, max_depth=45, bootstrap=False, score=0.862, total=   0.5s\n",
      "[CV] n_estimators=300, min_samples_split=3, min_samples_leaf=5, max_depth=45, bootstrap=False \n",
      "[CV]  n_estimators=300, min_samples_split=3, min_samples_leaf=5, max_depth=45, bootstrap=False, score=0.825, total=   0.5s\n",
      "[CV] n_estimators=220, min_samples_split=5, min_samples_leaf=3, max_depth=78, bootstrap=False \n",
      "[CV]  n_estimators=220, min_samples_split=5, min_samples_leaf=3, max_depth=78, bootstrap=False, score=0.798, total=   0.4s\n",
      "[CV] n_estimators=220, min_samples_split=5, min_samples_leaf=3, max_depth=78, bootstrap=False \n",
      "[CV]  n_estimators=220, min_samples_split=5, min_samples_leaf=3, max_depth=78, bootstrap=False, score=0.842, total=   0.4s\n",
      "[CV] n_estimators=220, min_samples_split=5, min_samples_leaf=3, max_depth=78, bootstrap=False \n",
      "[CV]  n_estimators=220, min_samples_split=5, min_samples_leaf=3, max_depth=78, bootstrap=False, score=0.838, total=   0.4s\n",
      "[CV] n_estimators=220, min_samples_split=3, min_samples_leaf=2, max_depth=23, bootstrap=True \n",
      "[CV]  n_estimators=220, min_samples_split=3, min_samples_leaf=2, max_depth=23, bootstrap=True, score=0.795, total=   0.4s\n",
      "[CV] n_estimators=220, min_samples_split=3, min_samples_leaf=2, max_depth=23, bootstrap=True \n",
      "[CV]  n_estimators=220, min_samples_split=3, min_samples_leaf=2, max_depth=23, bootstrap=True, score=0.845, total=   0.4s\n",
      "[CV] n_estimators=220, min_samples_split=3, min_samples_leaf=2, max_depth=23, bootstrap=True \n",
      "[CV]  n_estimators=220, min_samples_split=3, min_samples_leaf=2, max_depth=23, bootstrap=True, score=0.835, total=   0.4s\n",
      "[CV] n_estimators=200, min_samples_split=3, min_samples_leaf=3, max_depth=34, bootstrap=True \n",
      "[CV]  n_estimators=200, min_samples_split=3, min_samples_leaf=3, max_depth=34, bootstrap=True, score=0.801, total=   0.4s\n",
      "[CV] n_estimators=200, min_samples_split=3, min_samples_leaf=3, max_depth=34, bootstrap=True \n",
      "[CV]  n_estimators=200, min_samples_split=3, min_samples_leaf=3, max_depth=34, bootstrap=True, score=0.862, total=   0.4s\n",
      "[CV] n_estimators=200, min_samples_split=3, min_samples_leaf=3, max_depth=34, bootstrap=True \n",
      "[CV]  n_estimators=200, min_samples_split=3, min_samples_leaf=3, max_depth=34, bootstrap=True, score=0.828, total=   0.4s\n",
      "[CV] n_estimators=20, min_samples_split=2, min_samples_leaf=8, max_depth=1, bootstrap=False \n",
      "[CV]  n_estimators=20, min_samples_split=2, min_samples_leaf=8, max_depth=1, bootstrap=False, score=0.747, total=   0.0s\n",
      "[CV] n_estimators=20, min_samples_split=2, min_samples_leaf=8, max_depth=1, bootstrap=False \n",
      "[CV]  n_estimators=20, min_samples_split=2, min_samples_leaf=8, max_depth=1, bootstrap=False, score=0.801, total=   0.0s\n",
      "[CV] n_estimators=20, min_samples_split=2, min_samples_leaf=8, max_depth=1, bootstrap=False \n",
      "[CV]  n_estimators=20, min_samples_split=2, min_samples_leaf=8, max_depth=1, bootstrap=False, score=0.795, total=   0.0s\n",
      "[CV] n_estimators=20, min_samples_split=8, min_samples_leaf=5, max_depth=56, bootstrap=True \n",
      "[CV]  n_estimators=20, min_samples_split=8, min_samples_leaf=5, max_depth=56, bootstrap=True, score=0.811, total=   0.0s\n",
      "[CV] n_estimators=20, min_samples_split=8, min_samples_leaf=5, max_depth=56, bootstrap=True \n",
      "[CV]  n_estimators=20, min_samples_split=8, min_samples_leaf=5, max_depth=56, bootstrap=True, score=0.845, total=   0.0s\n",
      "[CV] n_estimators=20, min_samples_split=8, min_samples_leaf=5, max_depth=56, bootstrap=True \n",
      "[CV]  n_estimators=20, min_samples_split=8, min_samples_leaf=5, max_depth=56, bootstrap=True, score=0.822, total=   0.0s\n",
      "[CV] n_estimators=220, min_samples_split=5, min_samples_leaf=2, max_depth=1, bootstrap=False \n",
      "[CV]  n_estimators=220, min_samples_split=5, min_samples_leaf=2, max_depth=1, bootstrap=False, score=0.754, total=   0.3s\n",
      "[CV] n_estimators=220, min_samples_split=5, min_samples_leaf=2, max_depth=1, bootstrap=False \n",
      "[CV]  n_estimators=220, min_samples_split=5, min_samples_leaf=2, max_depth=1, bootstrap=False, score=0.822, total=   0.3s\n",
      "[CV] n_estimators=220, min_samples_split=5, min_samples_leaf=2, max_depth=1, bootstrap=False \n",
      "[CV]  n_estimators=220, min_samples_split=5, min_samples_leaf=2, max_depth=1, bootstrap=False, score=0.758, total=   0.3s\n",
      "[CV] n_estimators=280, min_samples_split=3, min_samples_leaf=2, max_depth=67, bootstrap=True \n",
      "[CV]  n_estimators=280, min_samples_split=3, min_samples_leaf=2, max_depth=67, bootstrap=True, score=0.791, total=   0.5s\n",
      "[CV] n_estimators=280, min_samples_split=3, min_samples_leaf=2, max_depth=67, bootstrap=True \n",
      "[CV]  n_estimators=280, min_samples_split=3, min_samples_leaf=2, max_depth=67, bootstrap=True, score=0.838, total=   0.5s\n",
      "[CV] n_estimators=280, min_samples_split=3, min_samples_leaf=2, max_depth=67, bootstrap=True \n",
      "[CV]  n_estimators=280, min_samples_split=3, min_samples_leaf=2, max_depth=67, bootstrap=True, score=0.825, total=   0.5s\n",
      "[CV] n_estimators=140, min_samples_split=8, min_samples_leaf=2, max_depth=23, bootstrap=False \n",
      "[CV]  n_estimators=140, min_samples_split=8, min_samples_leaf=2, max_depth=23, bootstrap=False, score=0.795, total=   0.2s\n",
      "[CV] n_estimators=140, min_samples_split=8, min_samples_leaf=2, max_depth=23, bootstrap=False \n",
      "[CV]  n_estimators=140, min_samples_split=8, min_samples_leaf=2, max_depth=23, bootstrap=False, score=0.842, total=   0.2s\n",
      "[CV] n_estimators=140, min_samples_split=8, min_samples_leaf=2, max_depth=23, bootstrap=False \n",
      "[CV]  n_estimators=140, min_samples_split=8, min_samples_leaf=2, max_depth=23, bootstrap=False, score=0.838, total=   0.2s\n",
      "[CV] n_estimators=240, min_samples_split=3, min_samples_leaf=2, max_depth=78, bootstrap=True \n",
      "[CV]  n_estimators=240, min_samples_split=3, min_samples_leaf=2, max_depth=78, bootstrap=True, score=0.791, total=   0.4s\n",
      "[CV] n_estimators=240, min_samples_split=3, min_samples_leaf=2, max_depth=78, bootstrap=True \n",
      "[CV]  n_estimators=240, min_samples_split=3, min_samples_leaf=2, max_depth=78, bootstrap=True, score=0.845, total=   0.5s\n",
      "[CV] n_estimators=240, min_samples_split=3, min_samples_leaf=2, max_depth=78, bootstrap=True \n",
      "[CV]  n_estimators=240, min_samples_split=3, min_samples_leaf=2, max_depth=78, bootstrap=True, score=0.838, total=   0.5s\n",
      "[CV] n_estimators=340, min_samples_split=5, min_samples_leaf=8, max_depth=23, bootstrap=True \n",
      "[CV]  n_estimators=340, min_samples_split=5, min_samples_leaf=8, max_depth=23, bootstrap=True, score=0.808, total=   0.6s\n",
      "[CV] n_estimators=340, min_samples_split=5, min_samples_leaf=8, max_depth=23, bootstrap=True \n",
      "[CV]  n_estimators=340, min_samples_split=5, min_samples_leaf=8, max_depth=23, bootstrap=True, score=0.848, total=   0.6s\n",
      "[CV] n_estimators=340, min_samples_split=5, min_samples_leaf=8, max_depth=23, bootstrap=True \n",
      "[CV]  n_estimators=340, min_samples_split=5, min_samples_leaf=8, max_depth=23, bootstrap=True, score=0.815, total=   0.6s\n",
      "[CV] n_estimators=140, min_samples_split=8, min_samples_leaf=5, max_depth=23, bootstrap=True \n"
     ]
    },
    {
     "name": "stdout",
     "output_type": "stream",
     "text": [
      "[CV]  n_estimators=140, min_samples_split=8, min_samples_leaf=5, max_depth=23, bootstrap=True, score=0.805, total=   0.3s\n",
      "[CV] n_estimators=140, min_samples_split=8, min_samples_leaf=5, max_depth=23, bootstrap=True \n",
      "[CV]  n_estimators=140, min_samples_split=8, min_samples_leaf=5, max_depth=23, bootstrap=True, score=0.838, total=   0.3s\n",
      "[CV] n_estimators=140, min_samples_split=8, min_samples_leaf=5, max_depth=23, bootstrap=True \n",
      "[CV]  n_estimators=140, min_samples_split=8, min_samples_leaf=5, max_depth=23, bootstrap=True, score=0.815, total=   0.3s\n",
      "[CV] n_estimators=100, min_samples_split=5, min_samples_leaf=3, max_depth=56, bootstrap=False \n",
      "[CV]  n_estimators=100, min_samples_split=5, min_samples_leaf=3, max_depth=56, bootstrap=False, score=0.791, total=   0.2s\n",
      "[CV] n_estimators=100, min_samples_split=5, min_samples_leaf=3, max_depth=56, bootstrap=False \n",
      "[CV]  n_estimators=100, min_samples_split=5, min_samples_leaf=3, max_depth=56, bootstrap=False, score=0.835, total=   0.2s\n",
      "[CV] n_estimators=100, min_samples_split=5, min_samples_leaf=3, max_depth=56, bootstrap=False \n",
      "[CV]  n_estimators=100, min_samples_split=5, min_samples_leaf=3, max_depth=56, bootstrap=False, score=0.835, total=   0.2s\n",
      "[CV] n_estimators=200, min_samples_split=7, min_samples_leaf=8, max_depth=100, bootstrap=False \n",
      "[CV]  n_estimators=200, min_samples_split=7, min_samples_leaf=8, max_depth=100, bootstrap=False, score=0.795, total=   0.3s\n",
      "[CV] n_estimators=200, min_samples_split=7, min_samples_leaf=8, max_depth=100, bootstrap=False \n",
      "[CV]  n_estimators=200, min_samples_split=7, min_samples_leaf=8, max_depth=100, bootstrap=False, score=0.845, total=   0.3s\n",
      "[CV] n_estimators=200, min_samples_split=7, min_samples_leaf=8, max_depth=100, bootstrap=False \n",
      "[CV]  n_estimators=200, min_samples_split=7, min_samples_leaf=8, max_depth=100, bootstrap=False, score=0.818, total=   0.3s\n",
      "[CV] n_estimators=20, min_samples_split=7, min_samples_leaf=5, max_depth=56, bootstrap=True \n",
      "[CV]  n_estimators=20, min_samples_split=7, min_samples_leaf=5, max_depth=56, bootstrap=True, score=0.781, total=   0.0s\n",
      "[CV] n_estimators=20, min_samples_split=7, min_samples_leaf=5, max_depth=56, bootstrap=True \n",
      "[CV]  n_estimators=20, min_samples_split=7, min_samples_leaf=5, max_depth=56, bootstrap=True, score=0.842, total=   0.0s\n",
      "[CV] n_estimators=20, min_samples_split=7, min_samples_leaf=5, max_depth=56, bootstrap=True \n",
      "[CV]  n_estimators=20, min_samples_split=7, min_samples_leaf=5, max_depth=56, bootstrap=True, score=0.808, total=   0.0s\n",
      "[CV] n_estimators=40, min_samples_split=3, min_samples_leaf=8, max_depth=89, bootstrap=False \n",
      "[CV]  n_estimators=40, min_samples_split=3, min_samples_leaf=8, max_depth=89, bootstrap=False, score=0.795, total=   0.1s\n",
      "[CV] n_estimators=40, min_samples_split=3, min_samples_leaf=8, max_depth=89, bootstrap=False \n",
      "[CV]  n_estimators=40, min_samples_split=3, min_samples_leaf=8, max_depth=89, bootstrap=False, score=0.845, total=   0.1s\n",
      "[CV] n_estimators=40, min_samples_split=3, min_samples_leaf=8, max_depth=89, bootstrap=False \n",
      "[CV]  n_estimators=40, min_samples_split=3, min_samples_leaf=8, max_depth=89, bootstrap=False, score=0.825, total=   0.1s\n",
      "[CV] n_estimators=340, min_samples_split=2, min_samples_leaf=2, max_depth=12, bootstrap=False \n",
      "[CV]  n_estimators=340, min_samples_split=2, min_samples_leaf=2, max_depth=12, bootstrap=False, score=0.788, total=   0.6s\n",
      "[CV] n_estimators=340, min_samples_split=2, min_samples_leaf=2, max_depth=12, bootstrap=False \n",
      "[CV]  n_estimators=340, min_samples_split=2, min_samples_leaf=2, max_depth=12, bootstrap=False, score=0.855, total=   0.6s\n",
      "[CV] n_estimators=340, min_samples_split=2, min_samples_leaf=2, max_depth=12, bootstrap=False \n",
      "[CV]  n_estimators=340, min_samples_split=2, min_samples_leaf=2, max_depth=12, bootstrap=False, score=0.838, total=   0.6s\n",
      "[CV] n_estimators=300, min_samples_split=8, min_samples_leaf=8, max_depth=56, bootstrap=False \n",
      "[CV]  n_estimators=300, min_samples_split=8, min_samples_leaf=8, max_depth=56, bootstrap=False, score=0.801, total=   0.5s\n",
      "[CV] n_estimators=300, min_samples_split=8, min_samples_leaf=8, max_depth=56, bootstrap=False \n",
      "[CV]  n_estimators=300, min_samples_split=8, min_samples_leaf=8, max_depth=56, bootstrap=False, score=0.845, total=   0.5s\n",
      "[CV] n_estimators=300, min_samples_split=8, min_samples_leaf=8, max_depth=56, bootstrap=False \n",
      "[CV]  n_estimators=300, min_samples_split=8, min_samples_leaf=8, max_depth=56, bootstrap=False, score=0.822, total=   0.5s\n",
      "[CV] n_estimators=320, min_samples_split=5, min_samples_leaf=8, max_depth=12, bootstrap=True \n",
      "[CV]  n_estimators=320, min_samples_split=5, min_samples_leaf=8, max_depth=12, bootstrap=True, score=0.801, total=   0.6s\n",
      "[CV] n_estimators=320, min_samples_split=5, min_samples_leaf=8, max_depth=12, bootstrap=True \n",
      "[CV]  n_estimators=320, min_samples_split=5, min_samples_leaf=8, max_depth=12, bootstrap=True, score=0.825, total=   0.6s\n",
      "[CV] n_estimators=320, min_samples_split=5, min_samples_leaf=8, max_depth=12, bootstrap=True \n",
      "[CV]  n_estimators=320, min_samples_split=5, min_samples_leaf=8, max_depth=12, bootstrap=True, score=0.822, total=   0.6s\n",
      "[CV] n_estimators=220, min_samples_split=5, min_samples_leaf=3, max_depth=1, bootstrap=False \n",
      "[CV]  n_estimators=220, min_samples_split=5, min_samples_leaf=3, max_depth=1, bootstrap=False, score=0.741, total=   0.3s\n",
      "[CV] n_estimators=220, min_samples_split=5, min_samples_leaf=3, max_depth=1, bootstrap=False \n",
      "[CV]  n_estimators=220, min_samples_split=5, min_samples_leaf=3, max_depth=1, bootstrap=False, score=0.822, total=   0.3s\n",
      "[CV] n_estimators=220, min_samples_split=5, min_samples_leaf=3, max_depth=1, bootstrap=False \n",
      "[CV]  n_estimators=220, min_samples_split=5, min_samples_leaf=3, max_depth=1, bootstrap=False, score=0.798, total=   0.3s\n",
      "[CV] n_estimators=180, min_samples_split=5, min_samples_leaf=2, max_depth=89, bootstrap=False \n",
      "[CV]  n_estimators=180, min_samples_split=5, min_samples_leaf=2, max_depth=89, bootstrap=False, score=0.791, total=   0.3s\n",
      "[CV] n_estimators=180, min_samples_split=5, min_samples_leaf=2, max_depth=89, bootstrap=False \n",
      "[CV]  n_estimators=180, min_samples_split=5, min_samples_leaf=2, max_depth=89, bootstrap=False, score=0.825, total=   0.3s\n",
      "[CV] n_estimators=180, min_samples_split=5, min_samples_leaf=2, max_depth=89, bootstrap=False \n",
      "[CV]  n_estimators=180, min_samples_split=5, min_samples_leaf=2, max_depth=89, bootstrap=False, score=0.825, total=   0.3s\n",
      "[CV] n_estimators=80, min_samples_split=7, min_samples_leaf=8, max_depth=45, bootstrap=False \n",
      "[CV]  n_estimators=80, min_samples_split=7, min_samples_leaf=8, max_depth=45, bootstrap=False, score=0.795, total=   0.1s\n",
      "[CV] n_estimators=80, min_samples_split=7, min_samples_leaf=8, max_depth=45, bootstrap=False \n",
      "[CV]  n_estimators=80, min_samples_split=7, min_samples_leaf=8, max_depth=45, bootstrap=False, score=0.848, total=   0.1s\n",
      "[CV] n_estimators=80, min_samples_split=7, min_samples_leaf=8, max_depth=45, bootstrap=False \n",
      "[CV]  n_estimators=80, min_samples_split=7, min_samples_leaf=8, max_depth=45, bootstrap=False, score=0.825, total=   0.1s\n",
      "[CV] n_estimators=340, min_samples_split=7, min_samples_leaf=5, max_depth=45, bootstrap=False \n",
      "[CV]  n_estimators=340, min_samples_split=7, min_samples_leaf=5, max_depth=45, bootstrap=False, score=0.798, total=   0.5s\n",
      "[CV] n_estimators=340, min_samples_split=7, min_samples_leaf=5, max_depth=45, bootstrap=False \n",
      "[CV]  n_estimators=340, min_samples_split=7, min_samples_leaf=5, max_depth=45, bootstrap=False, score=0.855, total=   0.5s\n",
      "[CV] n_estimators=340, min_samples_split=7, min_samples_leaf=5, max_depth=45, bootstrap=False \n",
      "[CV]  n_estimators=340, min_samples_split=7, min_samples_leaf=5, max_depth=45, bootstrap=False, score=0.825, total=   0.5s\n",
      "[CV] n_estimators=60, min_samples_split=5, min_samples_leaf=8, max_depth=34, bootstrap=True \n",
      "[CV]  n_estimators=60, min_samples_split=5, min_samples_leaf=8, max_depth=34, bootstrap=True, score=0.801, total=   0.1s\n",
      "[CV] n_estimators=60, min_samples_split=5, min_samples_leaf=8, max_depth=34, bootstrap=True \n",
      "[CV]  n_estimators=60, min_samples_split=5, min_samples_leaf=8, max_depth=34, bootstrap=True, score=0.842, total=   0.1s\n",
      "[CV] n_estimators=60, min_samples_split=5, min_samples_leaf=8, max_depth=34, bootstrap=True \n",
      "[CV]  n_estimators=60, min_samples_split=5, min_samples_leaf=8, max_depth=34, bootstrap=True, score=0.805, total=   0.1s\n",
      "[CV] n_estimators=120, min_samples_split=2, min_samples_leaf=5, max_depth=34, bootstrap=True \n"
     ]
    },
    {
     "name": "stdout",
     "output_type": "stream",
     "text": [
      "[CV]  n_estimators=120, min_samples_split=2, min_samples_leaf=5, max_depth=34, bootstrap=True, score=0.798, total=   0.2s\n",
      "[CV] n_estimators=120, min_samples_split=2, min_samples_leaf=5, max_depth=34, bootstrap=True \n",
      "[CV]  n_estimators=120, min_samples_split=2, min_samples_leaf=5, max_depth=34, bootstrap=True, score=0.845, total=   0.2s\n",
      "[CV] n_estimators=120, min_samples_split=2, min_samples_leaf=5, max_depth=34, bootstrap=True \n",
      "[CV]  n_estimators=120, min_samples_split=2, min_samples_leaf=5, max_depth=34, bootstrap=True, score=0.818, total=   0.2s\n",
      "[CV] n_estimators=120, min_samples_split=2, min_samples_leaf=5, max_depth=56, bootstrap=False \n",
      "[CV]  n_estimators=120, min_samples_split=2, min_samples_leaf=5, max_depth=56, bootstrap=False, score=0.791, total=   0.2s\n",
      "[CV] n_estimators=120, min_samples_split=2, min_samples_leaf=5, max_depth=56, bootstrap=False \n",
      "[CV]  n_estimators=120, min_samples_split=2, min_samples_leaf=5, max_depth=56, bootstrap=False, score=0.852, total=   0.2s\n",
      "[CV] n_estimators=120, min_samples_split=2, min_samples_leaf=5, max_depth=56, bootstrap=False \n",
      "[CV]  n_estimators=120, min_samples_split=2, min_samples_leaf=5, max_depth=56, bootstrap=False, score=0.822, total=   0.2s\n",
      "[CV] n_estimators=20, min_samples_split=2, min_samples_leaf=3, max_depth=23, bootstrap=False \n",
      "[CV]  n_estimators=20, min_samples_split=2, min_samples_leaf=3, max_depth=23, bootstrap=False, score=0.805, total=   0.0s\n",
      "[CV] n_estimators=20, min_samples_split=2, min_samples_leaf=3, max_depth=23, bootstrap=False \n",
      "[CV]  n_estimators=20, min_samples_split=2, min_samples_leaf=3, max_depth=23, bootstrap=False, score=0.815, total=   0.0s\n",
      "[CV] n_estimators=20, min_samples_split=2, min_samples_leaf=3, max_depth=23, bootstrap=False \n",
      "[CV]  n_estimators=20, min_samples_split=2, min_samples_leaf=3, max_depth=23, bootstrap=False, score=0.815, total=   0.0s\n",
      "[CV] n_estimators=360, min_samples_split=8, min_samples_leaf=5, max_depth=89, bootstrap=False \n",
      "[CV]  n_estimators=360, min_samples_split=8, min_samples_leaf=5, max_depth=89, bootstrap=False, score=0.791, total=   0.6s\n",
      "[CV] n_estimators=360, min_samples_split=8, min_samples_leaf=5, max_depth=89, bootstrap=False \n",
      "[CV]  n_estimators=360, min_samples_split=8, min_samples_leaf=5, max_depth=89, bootstrap=False, score=0.852, total=   0.6s\n",
      "[CV] n_estimators=360, min_samples_split=8, min_samples_leaf=5, max_depth=89, bootstrap=False \n",
      "[CV]  n_estimators=360, min_samples_split=8, min_samples_leaf=5, max_depth=89, bootstrap=False, score=0.825, total=   0.6s\n",
      "[CV] n_estimators=100, min_samples_split=7, min_samples_leaf=3, max_depth=34, bootstrap=True \n",
      "[CV]  n_estimators=100, min_samples_split=7, min_samples_leaf=3, max_depth=34, bootstrap=True, score=0.795, total=   0.2s\n",
      "[CV] n_estimators=100, min_samples_split=7, min_samples_leaf=3, max_depth=34, bootstrap=True \n",
      "[CV]  n_estimators=100, min_samples_split=7, min_samples_leaf=3, max_depth=34, bootstrap=True, score=0.842, total=   0.2s\n",
      "[CV] n_estimators=100, min_samples_split=7, min_samples_leaf=3, max_depth=34, bootstrap=True \n",
      "[CV]  n_estimators=100, min_samples_split=7, min_samples_leaf=3, max_depth=34, bootstrap=True, score=0.825, total=   0.2s\n",
      "[CV] n_estimators=340, min_samples_split=7, min_samples_leaf=2, max_depth=78, bootstrap=True \n",
      "[CV]  n_estimators=340, min_samples_split=7, min_samples_leaf=2, max_depth=78, bootstrap=True, score=0.801, total=   0.6s\n",
      "[CV] n_estimators=340, min_samples_split=7, min_samples_leaf=2, max_depth=78, bootstrap=True \n",
      "[CV]  n_estimators=340, min_samples_split=7, min_samples_leaf=2, max_depth=78, bootstrap=True, score=0.855, total=   0.6s\n",
      "[CV] n_estimators=340, min_samples_split=7, min_samples_leaf=2, max_depth=78, bootstrap=True \n",
      "[CV]  n_estimators=340, min_samples_split=7, min_samples_leaf=2, max_depth=78, bootstrap=True, score=0.832, total=   0.6s\n",
      "[CV] n_estimators=60, min_samples_split=5, min_samples_leaf=2, max_depth=78, bootstrap=False \n",
      "[CV]  n_estimators=60, min_samples_split=5, min_samples_leaf=2, max_depth=78, bootstrap=False, score=0.805, total=   0.1s\n",
      "[CV] n_estimators=60, min_samples_split=5, min_samples_leaf=2, max_depth=78, bootstrap=False \n",
      "[CV]  n_estimators=60, min_samples_split=5, min_samples_leaf=2, max_depth=78, bootstrap=False, score=0.825, total=   0.1s\n",
      "[CV] n_estimators=60, min_samples_split=5, min_samples_leaf=2, max_depth=78, bootstrap=False \n",
      "[CV]  n_estimators=60, min_samples_split=5, min_samples_leaf=2, max_depth=78, bootstrap=False, score=0.815, total=   0.1s\n",
      "[CV] n_estimators=60, min_samples_split=7, min_samples_leaf=5, max_depth=12, bootstrap=False \n",
      "[CV]  n_estimators=60, min_samples_split=7, min_samples_leaf=5, max_depth=12, bootstrap=False, score=0.805, total=   0.1s\n",
      "[CV] n_estimators=60, min_samples_split=7, min_samples_leaf=5, max_depth=12, bootstrap=False \n",
      "[CV]  n_estimators=60, min_samples_split=7, min_samples_leaf=5, max_depth=12, bootstrap=False, score=0.859, total=   0.1s\n",
      "[CV] n_estimators=60, min_samples_split=7, min_samples_leaf=5, max_depth=12, bootstrap=False \n",
      "[CV]  n_estimators=60, min_samples_split=7, min_samples_leaf=5, max_depth=12, bootstrap=False, score=0.828, total=   0.1s\n",
      "[CV] n_estimators=340, min_samples_split=3, min_samples_leaf=2, max_depth=100, bootstrap=True \n",
      "[CV]  n_estimators=340, min_samples_split=3, min_samples_leaf=2, max_depth=100, bootstrap=True, score=0.791, total=   0.6s\n",
      "[CV] n_estimators=340, min_samples_split=3, min_samples_leaf=2, max_depth=100, bootstrap=True \n",
      "[CV]  n_estimators=340, min_samples_split=3, min_samples_leaf=2, max_depth=100, bootstrap=True, score=0.845, total=   0.6s\n",
      "[CV] n_estimators=340, min_samples_split=3, min_samples_leaf=2, max_depth=100, bootstrap=True \n",
      "[CV]  n_estimators=340, min_samples_split=3, min_samples_leaf=2, max_depth=100, bootstrap=True, score=0.832, total=   0.6s\n",
      "[CV] n_estimators=40, min_samples_split=2, min_samples_leaf=2, max_depth=67, bootstrap=False \n",
      "[CV]  n_estimators=40, min_samples_split=2, min_samples_leaf=2, max_depth=67, bootstrap=False, score=0.795, total=   0.1s\n",
      "[CV] n_estimators=40, min_samples_split=2, min_samples_leaf=2, max_depth=67, bootstrap=False \n",
      "[CV]  n_estimators=40, min_samples_split=2, min_samples_leaf=2, max_depth=67, bootstrap=False, score=0.842, total=   0.1s\n",
      "[CV] n_estimators=40, min_samples_split=2, min_samples_leaf=2, max_depth=67, bootstrap=False \n",
      "[CV]  n_estimators=40, min_samples_split=2, min_samples_leaf=2, max_depth=67, bootstrap=False, score=0.825, total=   0.1s\n",
      "[CV] n_estimators=100, min_samples_split=8, min_samples_leaf=5, max_depth=56, bootstrap=True \n",
      "[CV]  n_estimators=100, min_samples_split=8, min_samples_leaf=5, max_depth=56, bootstrap=True, score=0.811, total=   0.2s\n",
      "[CV] n_estimators=100, min_samples_split=8, min_samples_leaf=5, max_depth=56, bootstrap=True \n",
      "[CV]  n_estimators=100, min_samples_split=8, min_samples_leaf=5, max_depth=56, bootstrap=True, score=0.838, total=   0.2s\n",
      "[CV] n_estimators=100, min_samples_split=8, min_samples_leaf=5, max_depth=56, bootstrap=True \n",
      "[CV]  n_estimators=100, min_samples_split=8, min_samples_leaf=5, max_depth=56, bootstrap=True, score=0.822, total=   0.2s\n",
      "[CV] n_estimators=100, min_samples_split=7, min_samples_leaf=2, max_depth=1, bootstrap=False \n",
      "[CV]  n_estimators=100, min_samples_split=7, min_samples_leaf=2, max_depth=1, bootstrap=False, score=0.751, total=   0.1s\n",
      "[CV] n_estimators=100, min_samples_split=7, min_samples_leaf=2, max_depth=1, bootstrap=False \n",
      "[CV]  n_estimators=100, min_samples_split=7, min_samples_leaf=2, max_depth=1, bootstrap=False, score=0.811, total=   0.1s\n",
      "[CV] n_estimators=100, min_samples_split=7, min_samples_leaf=2, max_depth=1, bootstrap=False \n",
      "[CV]  n_estimators=100, min_samples_split=7, min_samples_leaf=2, max_depth=1, bootstrap=False, score=0.798, total=   0.1s\n",
      "[CV] n_estimators=340, min_samples_split=5, min_samples_leaf=2, max_depth=45, bootstrap=True \n",
      "[CV]  n_estimators=340, min_samples_split=5, min_samples_leaf=2, max_depth=45, bootstrap=True, score=0.798, total=   0.6s\n",
      "[CV] n_estimators=340, min_samples_split=5, min_samples_leaf=2, max_depth=45, bootstrap=True \n",
      "[CV]  n_estimators=340, min_samples_split=5, min_samples_leaf=2, max_depth=45, bootstrap=True, score=0.848, total=   0.6s\n",
      "[CV] n_estimators=340, min_samples_split=5, min_samples_leaf=2, max_depth=45, bootstrap=True \n"
     ]
    },
    {
     "name": "stdout",
     "output_type": "stream",
     "text": [
      "[CV]  n_estimators=340, min_samples_split=5, min_samples_leaf=2, max_depth=45, bootstrap=True, score=0.832, total=   0.6s\n",
      "[CV] n_estimators=100, min_samples_split=8, min_samples_leaf=2, max_depth=100, bootstrap=False \n",
      "[CV]  n_estimators=100, min_samples_split=8, min_samples_leaf=2, max_depth=100, bootstrap=False, score=0.805, total=   0.2s\n",
      "[CV] n_estimators=100, min_samples_split=8, min_samples_leaf=2, max_depth=100, bootstrap=False \n",
      "[CV]  n_estimators=100, min_samples_split=8, min_samples_leaf=2, max_depth=100, bootstrap=False, score=0.835, total=   0.2s\n",
      "[CV] n_estimators=100, min_samples_split=8, min_samples_leaf=2, max_depth=100, bootstrap=False \n",
      "[CV]  n_estimators=100, min_samples_split=8, min_samples_leaf=2, max_depth=100, bootstrap=False, score=0.835, total=   0.2s\n",
      "[CV] n_estimators=120, min_samples_split=5, min_samples_leaf=2, max_depth=56, bootstrap=False \n",
      "[CV]  n_estimators=120, min_samples_split=5, min_samples_leaf=2, max_depth=56, bootstrap=False, score=0.791, total=   0.2s\n",
      "[CV] n_estimators=120, min_samples_split=5, min_samples_leaf=2, max_depth=56, bootstrap=False \n",
      "[CV]  n_estimators=120, min_samples_split=5, min_samples_leaf=2, max_depth=56, bootstrap=False, score=0.828, total=   0.2s\n",
      "[CV] n_estimators=120, min_samples_split=5, min_samples_leaf=2, max_depth=56, bootstrap=False \n",
      "[CV]  n_estimators=120, min_samples_split=5, min_samples_leaf=2, max_depth=56, bootstrap=False, score=0.828, total=   0.2s\n",
      "[CV] n_estimators=360, min_samples_split=7, min_samples_leaf=2, max_depth=34, bootstrap=False \n",
      "[CV]  n_estimators=360, min_samples_split=7, min_samples_leaf=2, max_depth=34, bootstrap=False, score=0.791, total=   0.6s\n",
      "[CV] n_estimators=360, min_samples_split=7, min_samples_leaf=2, max_depth=34, bootstrap=False \n",
      "[CV]  n_estimators=360, min_samples_split=7, min_samples_leaf=2, max_depth=34, bootstrap=False, score=0.835, total=   0.6s\n",
      "[CV] n_estimators=360, min_samples_split=7, min_samples_leaf=2, max_depth=34, bootstrap=False \n",
      "[CV]  n_estimators=360, min_samples_split=7, min_samples_leaf=2, max_depth=34, bootstrap=False, score=0.842, total=   0.6s\n",
      "[CV] n_estimators=100, min_samples_split=8, min_samples_leaf=3, max_depth=89, bootstrap=False \n",
      "[CV]  n_estimators=100, min_samples_split=8, min_samples_leaf=3, max_depth=89, bootstrap=False, score=0.795, total=   0.2s\n",
      "[CV] n_estimators=100, min_samples_split=8, min_samples_leaf=3, max_depth=89, bootstrap=False \n",
      "[CV]  n_estimators=100, min_samples_split=8, min_samples_leaf=3, max_depth=89, bootstrap=False, score=0.848, total=   0.2s\n",
      "[CV] n_estimators=100, min_samples_split=8, min_samples_leaf=3, max_depth=89, bootstrap=False \n",
      "[CV]  n_estimators=100, min_samples_split=8, min_samples_leaf=3, max_depth=89, bootstrap=False, score=0.835, total=   0.2s\n",
      "[CV] n_estimators=220, min_samples_split=2, min_samples_leaf=3, max_depth=34, bootstrap=False \n",
      "[CV]  n_estimators=220, min_samples_split=2, min_samples_leaf=3, max_depth=34, bootstrap=False, score=0.801, total=   0.4s\n",
      "[CV] n_estimators=220, min_samples_split=2, min_samples_leaf=3, max_depth=34, bootstrap=False \n",
      "[CV]  n_estimators=220, min_samples_split=2, min_samples_leaf=3, max_depth=34, bootstrap=False, score=0.838, total=   0.4s\n",
      "[CV] n_estimators=220, min_samples_split=2, min_samples_leaf=3, max_depth=34, bootstrap=False \n",
      "[CV]  n_estimators=220, min_samples_split=2, min_samples_leaf=3, max_depth=34, bootstrap=False, score=0.838, total=   0.4s\n",
      "[CV] n_estimators=320, min_samples_split=7, min_samples_leaf=3, max_depth=45, bootstrap=False \n",
      "[CV]  n_estimators=320, min_samples_split=7, min_samples_leaf=3, max_depth=45, bootstrap=False, score=0.795, total=   0.5s\n",
      "[CV] n_estimators=320, min_samples_split=7, min_samples_leaf=3, max_depth=45, bootstrap=False \n",
      "[CV]  n_estimators=320, min_samples_split=7, min_samples_leaf=3, max_depth=45, bootstrap=False, score=0.838, total=   0.5s\n",
      "[CV] n_estimators=320, min_samples_split=7, min_samples_leaf=3, max_depth=45, bootstrap=False \n",
      "[CV]  n_estimators=320, min_samples_split=7, min_samples_leaf=3, max_depth=45, bootstrap=False, score=0.838, total=   0.5s\n",
      "[CV] n_estimators=120, min_samples_split=2, min_samples_leaf=3, max_depth=67, bootstrap=True \n",
      "[CV]  n_estimators=120, min_samples_split=2, min_samples_leaf=3, max_depth=67, bootstrap=True, score=0.811, total=   0.2s\n",
      "[CV] n_estimators=120, min_samples_split=2, min_samples_leaf=3, max_depth=67, bootstrap=True \n",
      "[CV]  n_estimators=120, min_samples_split=2, min_samples_leaf=3, max_depth=67, bootstrap=True, score=0.828, total=   0.2s\n",
      "[CV] n_estimators=120, min_samples_split=2, min_samples_leaf=3, max_depth=67, bootstrap=True \n",
      "[CV]  n_estimators=120, min_samples_split=2, min_samples_leaf=3, max_depth=67, bootstrap=True, score=0.832, total=   0.2s\n",
      "[CV] n_estimators=40, min_samples_split=2, min_samples_leaf=5, max_depth=56, bootstrap=False \n",
      "[CV]  n_estimators=40, min_samples_split=2, min_samples_leaf=5, max_depth=56, bootstrap=False, score=0.795, total=   0.1s\n",
      "[CV] n_estimators=40, min_samples_split=2, min_samples_leaf=5, max_depth=56, bootstrap=False \n",
      "[CV]  n_estimators=40, min_samples_split=2, min_samples_leaf=5, max_depth=56, bootstrap=False, score=0.848, total=   0.1s\n",
      "[CV] n_estimators=40, min_samples_split=2, min_samples_leaf=5, max_depth=56, bootstrap=False \n",
      "[CV]  n_estimators=40, min_samples_split=2, min_samples_leaf=5, max_depth=56, bootstrap=False, score=0.828, total=   0.1s\n",
      "[CV] n_estimators=320, min_samples_split=3, min_samples_leaf=5, max_depth=12, bootstrap=False \n",
      "[CV]  n_estimators=320, min_samples_split=3, min_samples_leaf=5, max_depth=12, bootstrap=False, score=0.798, total=   0.5s\n",
      "[CV] n_estimators=320, min_samples_split=3, min_samples_leaf=5, max_depth=12, bootstrap=False \n",
      "[CV]  n_estimators=320, min_samples_split=3, min_samples_leaf=5, max_depth=12, bootstrap=False, score=0.855, total=   0.5s\n",
      "[CV] n_estimators=320, min_samples_split=3, min_samples_leaf=5, max_depth=12, bootstrap=False \n",
      "[CV]  n_estimators=320, min_samples_split=3, min_samples_leaf=5, max_depth=12, bootstrap=False, score=0.825, total=   0.5s\n",
      "[CV] n_estimators=200, min_samples_split=3, min_samples_leaf=3, max_depth=89, bootstrap=False \n",
      "[CV]  n_estimators=200, min_samples_split=3, min_samples_leaf=3, max_depth=89, bootstrap=False, score=0.798, total=   0.3s\n",
      "[CV] n_estimators=200, min_samples_split=3, min_samples_leaf=3, max_depth=89, bootstrap=False \n",
      "[CV]  n_estimators=200, min_samples_split=3, min_samples_leaf=3, max_depth=89, bootstrap=False, score=0.838, total=   0.3s\n",
      "[CV] n_estimators=200, min_samples_split=3, min_samples_leaf=3, max_depth=89, bootstrap=False \n",
      "[CV]  n_estimators=200, min_samples_split=3, min_samples_leaf=3, max_depth=89, bootstrap=False, score=0.842, total=   0.3s\n",
      "[CV] n_estimators=160, min_samples_split=5, min_samples_leaf=8, max_depth=23, bootstrap=True \n",
      "[CV]  n_estimators=160, min_samples_split=5, min_samples_leaf=8, max_depth=23, bootstrap=True, score=0.808, total=   0.3s\n",
      "[CV] n_estimators=160, min_samples_split=5, min_samples_leaf=8, max_depth=23, bootstrap=True \n",
      "[CV]  n_estimators=160, min_samples_split=5, min_samples_leaf=8, max_depth=23, bootstrap=True, score=0.838, total=   0.3s\n",
      "[CV] n_estimators=160, min_samples_split=5, min_samples_leaf=8, max_depth=23, bootstrap=True \n",
      "[CV]  n_estimators=160, min_samples_split=5, min_samples_leaf=8, max_depth=23, bootstrap=True, score=0.818, total=   0.3s\n",
      "[CV] n_estimators=140, min_samples_split=7, min_samples_leaf=8, max_depth=34, bootstrap=False \n",
      "[CV]  n_estimators=140, min_samples_split=7, min_samples_leaf=8, max_depth=34, bootstrap=False, score=0.788, total=   0.2s\n",
      "[CV] n_estimators=140, min_samples_split=7, min_samples_leaf=8, max_depth=34, bootstrap=False \n",
      "[CV]  n_estimators=140, min_samples_split=7, min_samples_leaf=8, max_depth=34, bootstrap=False, score=0.845, total=   0.2s\n",
      "[CV] n_estimators=140, min_samples_split=7, min_samples_leaf=8, max_depth=34, bootstrap=False \n",
      "[CV]  n_estimators=140, min_samples_split=7, min_samples_leaf=8, max_depth=34, bootstrap=False, score=0.818, total=   0.2s\n",
      "[CV] n_estimators=20, min_samples_split=2, min_samples_leaf=3, max_depth=45, bootstrap=False \n",
      "[CV]  n_estimators=20, min_samples_split=2, min_samples_leaf=3, max_depth=45, bootstrap=False, score=0.801, total=   0.0s\n",
      "[CV] n_estimators=20, min_samples_split=2, min_samples_leaf=3, max_depth=45, bootstrap=False \n",
      "[CV]  n_estimators=20, min_samples_split=2, min_samples_leaf=3, max_depth=45, bootstrap=False, score=0.822, total=   0.0s\n",
      "[CV] n_estimators=20, min_samples_split=2, min_samples_leaf=3, max_depth=45, bootstrap=False \n",
      "[CV]  n_estimators=20, min_samples_split=2, min_samples_leaf=3, max_depth=45, bootstrap=False, score=0.835, total=   0.0s\n",
      "[CV] n_estimators=340, min_samples_split=2, min_samples_leaf=5, max_depth=1, bootstrap=True \n"
     ]
    },
    {
     "name": "stdout",
     "output_type": "stream",
     "text": [
      "[CV]  n_estimators=340, min_samples_split=2, min_samples_leaf=5, max_depth=1, bootstrap=True, score=0.754, total=   0.5s\n",
      "[CV] n_estimators=340, min_samples_split=2, min_samples_leaf=5, max_depth=1, bootstrap=True \n",
      "[CV]  n_estimators=340, min_samples_split=2, min_samples_leaf=5, max_depth=1, bootstrap=True, score=0.808, total=   0.5s\n",
      "[CV] n_estimators=340, min_samples_split=2, min_samples_leaf=5, max_depth=1, bootstrap=True \n",
      "[CV]  n_estimators=340, min_samples_split=2, min_samples_leaf=5, max_depth=1, bootstrap=True, score=0.761, total=   0.5s\n",
      "[CV] n_estimators=300, min_samples_split=3, min_samples_leaf=2, max_depth=67, bootstrap=False \n",
      "[CV]  n_estimators=300, min_samples_split=3, min_samples_leaf=2, max_depth=67, bootstrap=False, score=0.798, total=   0.5s\n",
      "[CV] n_estimators=300, min_samples_split=3, min_samples_leaf=2, max_depth=67, bootstrap=False \n",
      "[CV]  n_estimators=300, min_samples_split=3, min_samples_leaf=2, max_depth=67, bootstrap=False, score=0.832, total=   0.5s\n",
      "[CV] n_estimators=300, min_samples_split=3, min_samples_leaf=2, max_depth=67, bootstrap=False \n",
      "[CV]  n_estimators=300, min_samples_split=3, min_samples_leaf=2, max_depth=67, bootstrap=False, score=0.818, total=   0.5s\n",
      "[CV] n_estimators=360, min_samples_split=2, min_samples_leaf=8, max_depth=78, bootstrap=True \n",
      "[CV]  n_estimators=360, min_samples_split=2, min_samples_leaf=8, max_depth=78, bootstrap=True, score=0.808, total=   0.6s\n",
      "[CV] n_estimators=360, min_samples_split=2, min_samples_leaf=8, max_depth=78, bootstrap=True \n",
      "[CV]  n_estimators=360, min_samples_split=2, min_samples_leaf=8, max_depth=78, bootstrap=True, score=0.842, total=   0.6s\n",
      "[CV] n_estimators=360, min_samples_split=2, min_samples_leaf=8, max_depth=78, bootstrap=True \n",
      "[CV]  n_estimators=360, min_samples_split=2, min_samples_leaf=8, max_depth=78, bootstrap=True, score=0.818, total=   0.6s\n",
      "[CV] n_estimators=60, min_samples_split=8, min_samples_leaf=2, max_depth=23, bootstrap=False \n",
      "[CV]  n_estimators=60, min_samples_split=8, min_samples_leaf=2, max_depth=23, bootstrap=False, score=0.801, total=   0.1s\n",
      "[CV] n_estimators=60, min_samples_split=8, min_samples_leaf=2, max_depth=23, bootstrap=False \n",
      "[CV]  n_estimators=60, min_samples_split=8, min_samples_leaf=2, max_depth=23, bootstrap=False, score=0.828, total=   0.1s\n",
      "[CV] n_estimators=60, min_samples_split=8, min_samples_leaf=2, max_depth=23, bootstrap=False \n",
      "[CV]  n_estimators=60, min_samples_split=8, min_samples_leaf=2, max_depth=23, bootstrap=False, score=0.835, total=   0.1s\n",
      "[CV] n_estimators=200, min_samples_split=3, min_samples_leaf=3, max_depth=23, bootstrap=True \n",
      "[CV]  n_estimators=200, min_samples_split=3, min_samples_leaf=3, max_depth=23, bootstrap=True, score=0.791, total=   0.4s\n",
      "[CV] n_estimators=200, min_samples_split=3, min_samples_leaf=3, max_depth=23, bootstrap=True \n",
      "[CV]  n_estimators=200, min_samples_split=3, min_samples_leaf=3, max_depth=23, bootstrap=True, score=0.842, total=   0.4s\n",
      "[CV] n_estimators=200, min_samples_split=3, min_samples_leaf=3, max_depth=23, bootstrap=True \n",
      "[CV]  n_estimators=200, min_samples_split=3, min_samples_leaf=3, max_depth=23, bootstrap=True, score=0.822, total=   0.4s\n",
      "[CV] n_estimators=320, min_samples_split=5, min_samples_leaf=5, max_depth=100, bootstrap=True \n",
      "[CV]  n_estimators=320, min_samples_split=5, min_samples_leaf=5, max_depth=100, bootstrap=True, score=0.798, total=   0.6s\n",
      "[CV] n_estimators=320, min_samples_split=5, min_samples_leaf=5, max_depth=100, bootstrap=True \n",
      "[CV]  n_estimators=320, min_samples_split=5, min_samples_leaf=5, max_depth=100, bootstrap=True, score=0.835, total=   0.6s\n",
      "[CV] n_estimators=320, min_samples_split=5, min_samples_leaf=5, max_depth=100, bootstrap=True \n",
      "[CV]  n_estimators=320, min_samples_split=5, min_samples_leaf=5, max_depth=100, bootstrap=True, score=0.818, total=   0.6s\n",
      "[CV] n_estimators=400, min_samples_split=2, min_samples_leaf=5, max_depth=100, bootstrap=True \n",
      "[CV]  n_estimators=400, min_samples_split=2, min_samples_leaf=5, max_depth=100, bootstrap=True, score=0.811, total=   0.7s\n",
      "[CV] n_estimators=400, min_samples_split=2, min_samples_leaf=5, max_depth=100, bootstrap=True \n",
      "[CV]  n_estimators=400, min_samples_split=2, min_samples_leaf=5, max_depth=100, bootstrap=True, score=0.848, total=   0.7s\n",
      "[CV] n_estimators=400, min_samples_split=2, min_samples_leaf=5, max_depth=100, bootstrap=True \n",
      "[CV]  n_estimators=400, min_samples_split=2, min_samples_leaf=5, max_depth=100, bootstrap=True, score=0.822, total=   0.7s\n",
      "[CV] n_estimators=360, min_samples_split=7, min_samples_leaf=5, max_depth=45, bootstrap=False \n",
      "[CV]  n_estimators=360, min_samples_split=7, min_samples_leaf=5, max_depth=45, bootstrap=False, score=0.795, total=   0.6s\n",
      "[CV] n_estimators=360, min_samples_split=7, min_samples_leaf=5, max_depth=45, bootstrap=False \n",
      "[CV]  n_estimators=360, min_samples_split=7, min_samples_leaf=5, max_depth=45, bootstrap=False, score=0.855, total=   0.6s\n",
      "[CV] n_estimators=360, min_samples_split=7, min_samples_leaf=5, max_depth=45, bootstrap=False \n",
      "[CV]  n_estimators=360, min_samples_split=7, min_samples_leaf=5, max_depth=45, bootstrap=False, score=0.825, total=   0.6s\n",
      "[CV] n_estimators=120, min_samples_split=2, min_samples_leaf=8, max_depth=89, bootstrap=True \n",
      "[CV]  n_estimators=120, min_samples_split=2, min_samples_leaf=8, max_depth=89, bootstrap=True, score=0.801, total=   0.2s\n",
      "[CV] n_estimators=120, min_samples_split=2, min_samples_leaf=8, max_depth=89, bootstrap=True \n",
      "[CV]  n_estimators=120, min_samples_split=2, min_samples_leaf=8, max_depth=89, bootstrap=True, score=0.828, total=   0.2s\n",
      "[CV] n_estimators=120, min_samples_split=2, min_samples_leaf=8, max_depth=89, bootstrap=True \n",
      "[CV]  n_estimators=120, min_samples_split=2, min_samples_leaf=8, max_depth=89, bootstrap=True, score=0.808, total=   0.2s\n",
      "[CV] n_estimators=240, min_samples_split=7, min_samples_leaf=2, max_depth=45, bootstrap=False \n",
      "[CV]  n_estimators=240, min_samples_split=7, min_samples_leaf=2, max_depth=45, bootstrap=False, score=0.795, total=   0.4s\n",
      "[CV] n_estimators=240, min_samples_split=7, min_samples_leaf=2, max_depth=45, bootstrap=False \n",
      "[CV]  n_estimators=240, min_samples_split=7, min_samples_leaf=2, max_depth=45, bootstrap=False, score=0.832, total=   0.4s\n",
      "[CV] n_estimators=240, min_samples_split=7, min_samples_leaf=2, max_depth=45, bootstrap=False \n",
      "[CV]  n_estimators=240, min_samples_split=7, min_samples_leaf=2, max_depth=45, bootstrap=False, score=0.835, total=   0.4s\n",
      "[CV] n_estimators=340, min_samples_split=3, min_samples_leaf=3, max_depth=67, bootstrap=False \n",
      "[CV]  n_estimators=340, min_samples_split=3, min_samples_leaf=3, max_depth=67, bootstrap=False, score=0.795, total=   0.6s\n",
      "[CV] n_estimators=340, min_samples_split=3, min_samples_leaf=3, max_depth=67, bootstrap=False \n",
      "[CV]  n_estimators=340, min_samples_split=3, min_samples_leaf=3, max_depth=67, bootstrap=False, score=0.835, total=   0.6s\n",
      "[CV] n_estimators=340, min_samples_split=3, min_samples_leaf=3, max_depth=67, bootstrap=False \n",
      "[CV]  n_estimators=340, min_samples_split=3, min_samples_leaf=3, max_depth=67, bootstrap=False, score=0.835, total=   0.6s\n",
      "[CV] n_estimators=320, min_samples_split=5, min_samples_leaf=8, max_depth=56, bootstrap=False \n",
      "[CV]  n_estimators=320, min_samples_split=5, min_samples_leaf=8, max_depth=56, bootstrap=False, score=0.795, total=   0.5s\n",
      "[CV] n_estimators=320, min_samples_split=5, min_samples_leaf=8, max_depth=56, bootstrap=False \n",
      "[CV]  n_estimators=320, min_samples_split=5, min_samples_leaf=8, max_depth=56, bootstrap=False, score=0.848, total=   0.5s\n",
      "[CV] n_estimators=320, min_samples_split=5, min_samples_leaf=8, max_depth=56, bootstrap=False \n",
      "[CV]  n_estimators=320, min_samples_split=5, min_samples_leaf=8, max_depth=56, bootstrap=False, score=0.825, total=   0.5s\n",
      "[CV] n_estimators=200, min_samples_split=3, min_samples_leaf=5, max_depth=89, bootstrap=False \n",
      "[CV]  n_estimators=200, min_samples_split=3, min_samples_leaf=5, max_depth=89, bootstrap=False, score=0.801, total=   0.3s\n",
      "[CV] n_estimators=200, min_samples_split=3, min_samples_leaf=5, max_depth=89, bootstrap=False \n",
      "[CV]  n_estimators=200, min_samples_split=3, min_samples_leaf=5, max_depth=89, bootstrap=False, score=0.848, total=   0.3s\n",
      "[CV] n_estimators=200, min_samples_split=3, min_samples_leaf=5, max_depth=89, bootstrap=False \n"
     ]
    },
    {
     "name": "stdout",
     "output_type": "stream",
     "text": [
      "[CV]  n_estimators=200, min_samples_split=3, min_samples_leaf=5, max_depth=89, bootstrap=False, score=0.825, total=   0.3s\n",
      "[CV] n_estimators=360, min_samples_split=2, min_samples_leaf=2, max_depth=78, bootstrap=True \n",
      "[CV]  n_estimators=360, min_samples_split=2, min_samples_leaf=2, max_depth=78, bootstrap=True, score=0.798, total=   0.7s\n",
      "[CV] n_estimators=360, min_samples_split=2, min_samples_leaf=2, max_depth=78, bootstrap=True \n",
      "[CV]  n_estimators=360, min_samples_split=2, min_samples_leaf=2, max_depth=78, bootstrap=True, score=0.845, total=   0.7s\n",
      "[CV] n_estimators=360, min_samples_split=2, min_samples_leaf=2, max_depth=78, bootstrap=True \n",
      "[CV]  n_estimators=360, min_samples_split=2, min_samples_leaf=2, max_depth=78, bootstrap=True, score=0.825, total=   0.7s\n",
      "[CV] n_estimators=140, min_samples_split=3, min_samples_leaf=2, max_depth=100, bootstrap=True \n",
      "[CV]  n_estimators=140, min_samples_split=3, min_samples_leaf=2, max_depth=100, bootstrap=True, score=0.795, total=   0.3s\n",
      "[CV] n_estimators=140, min_samples_split=3, min_samples_leaf=2, max_depth=100, bootstrap=True \n",
      "[CV]  n_estimators=140, min_samples_split=3, min_samples_leaf=2, max_depth=100, bootstrap=True, score=0.848, total=   0.3s\n",
      "[CV] n_estimators=140, min_samples_split=3, min_samples_leaf=2, max_depth=100, bootstrap=True \n",
      "[CV]  n_estimators=140, min_samples_split=3, min_samples_leaf=2, max_depth=100, bootstrap=True, score=0.825, total=   0.3s\n",
      "[CV] n_estimators=300, min_samples_split=7, min_samples_leaf=2, max_depth=100, bootstrap=False \n",
      "[CV]  n_estimators=300, min_samples_split=7, min_samples_leaf=2, max_depth=100, bootstrap=False, score=0.801, total=   0.5s\n",
      "[CV] n_estimators=300, min_samples_split=7, min_samples_leaf=2, max_depth=100, bootstrap=False \n",
      "[CV]  n_estimators=300, min_samples_split=7, min_samples_leaf=2, max_depth=100, bootstrap=False, score=0.842, total=   0.5s\n",
      "[CV] n_estimators=300, min_samples_split=7, min_samples_leaf=2, max_depth=100, bootstrap=False \n",
      "[CV]  n_estimators=300, min_samples_split=7, min_samples_leaf=2, max_depth=100, bootstrap=False, score=0.835, total=   0.5s\n",
      "[CV] n_estimators=160, min_samples_split=8, min_samples_leaf=2, max_depth=23, bootstrap=False \n",
      "[CV]  n_estimators=160, min_samples_split=8, min_samples_leaf=2, max_depth=23, bootstrap=False, score=0.798, total=   0.3s\n",
      "[CV] n_estimators=160, min_samples_split=8, min_samples_leaf=2, max_depth=23, bootstrap=False \n",
      "[CV]  n_estimators=160, min_samples_split=8, min_samples_leaf=2, max_depth=23, bootstrap=False, score=0.835, total=   0.3s\n",
      "[CV] n_estimators=160, min_samples_split=8, min_samples_leaf=2, max_depth=23, bootstrap=False \n",
      "[CV]  n_estimators=160, min_samples_split=8, min_samples_leaf=2, max_depth=23, bootstrap=False, score=0.832, total=   0.3s\n",
      "[CV] n_estimators=180, min_samples_split=8, min_samples_leaf=2, max_depth=23, bootstrap=False \n",
      "[CV]  n_estimators=180, min_samples_split=8, min_samples_leaf=2, max_depth=23, bootstrap=False, score=0.795, total=   0.3s\n",
      "[CV] n_estimators=180, min_samples_split=8, min_samples_leaf=2, max_depth=23, bootstrap=False \n",
      "[CV]  n_estimators=180, min_samples_split=8, min_samples_leaf=2, max_depth=23, bootstrap=False, score=0.835, total=   0.3s\n",
      "[CV] n_estimators=180, min_samples_split=8, min_samples_leaf=2, max_depth=23, bootstrap=False \n",
      "[CV]  n_estimators=180, min_samples_split=8, min_samples_leaf=2, max_depth=23, bootstrap=False, score=0.835, total=   0.3s\n",
      "[CV] n_estimators=40, min_samples_split=5, min_samples_leaf=5, max_depth=100, bootstrap=False \n",
      "[CV]  n_estimators=40, min_samples_split=5, min_samples_leaf=5, max_depth=100, bootstrap=False, score=0.801, total=   0.1s\n",
      "[CV] n_estimators=40, min_samples_split=5, min_samples_leaf=5, max_depth=100, bootstrap=False \n",
      "[CV]  n_estimators=40, min_samples_split=5, min_samples_leaf=5, max_depth=100, bootstrap=False, score=0.855, total=   0.1s\n",
      "[CV] n_estimators=40, min_samples_split=5, min_samples_leaf=5, max_depth=100, bootstrap=False \n",
      "[CV]  n_estimators=40, min_samples_split=5, min_samples_leaf=5, max_depth=100, bootstrap=False, score=0.825, total=   0.1s\n",
      "[CV] n_estimators=340, min_samples_split=8, min_samples_leaf=8, max_depth=89, bootstrap=True \n",
      "[CV]  n_estimators=340, min_samples_split=8, min_samples_leaf=8, max_depth=89, bootstrap=True, score=0.805, total=   0.6s\n",
      "[CV] n_estimators=340, min_samples_split=8, min_samples_leaf=8, max_depth=89, bootstrap=True \n",
      "[CV]  n_estimators=340, min_samples_split=8, min_samples_leaf=8, max_depth=89, bootstrap=True, score=0.842, total=   0.6s\n",
      "[CV] n_estimators=340, min_samples_split=8, min_samples_leaf=8, max_depth=89, bootstrap=True \n",
      "[CV]  n_estimators=340, min_samples_split=8, min_samples_leaf=8, max_depth=89, bootstrap=True, score=0.818, total=   0.6s\n",
      "[CV] n_estimators=80, min_samples_split=3, min_samples_leaf=5, max_depth=89, bootstrap=False \n",
      "[CV]  n_estimators=80, min_samples_split=3, min_samples_leaf=5, max_depth=89, bootstrap=False, score=0.795, total=   0.1s\n",
      "[CV] n_estimators=80, min_samples_split=3, min_samples_leaf=5, max_depth=89, bootstrap=False \n",
      "[CV]  n_estimators=80, min_samples_split=3, min_samples_leaf=5, max_depth=89, bootstrap=False, score=0.842, total=   0.1s\n",
      "[CV] n_estimators=80, min_samples_split=3, min_samples_leaf=5, max_depth=89, bootstrap=False \n",
      "[CV]  n_estimators=80, min_samples_split=3, min_samples_leaf=5, max_depth=89, bootstrap=False, score=0.828, total=   0.1s\n",
      "[CV] n_estimators=320, min_samples_split=7, min_samples_leaf=8, max_depth=45, bootstrap=True \n",
      "[CV]  n_estimators=320, min_samples_split=7, min_samples_leaf=8, max_depth=45, bootstrap=True, score=0.801, total=   0.6s\n",
      "[CV] n_estimators=320, min_samples_split=7, min_samples_leaf=8, max_depth=45, bootstrap=True \n",
      "[CV]  n_estimators=320, min_samples_split=7, min_samples_leaf=8, max_depth=45, bootstrap=True, score=0.842, total=   0.6s\n",
      "[CV] n_estimators=320, min_samples_split=7, min_samples_leaf=8, max_depth=45, bootstrap=True \n",
      "[CV]  n_estimators=320, min_samples_split=7, min_samples_leaf=8, max_depth=45, bootstrap=True, score=0.815, total=   0.6s\n",
      "[CV] n_estimators=20, min_samples_split=2, min_samples_leaf=8, max_depth=23, bootstrap=False \n",
      "[CV]  n_estimators=20, min_samples_split=2, min_samples_leaf=8, max_depth=23, bootstrap=False, score=0.795, total=   0.0s\n",
      "[CV] n_estimators=20, min_samples_split=2, min_samples_leaf=8, max_depth=23, bootstrap=False \n",
      "[CV]  n_estimators=20, min_samples_split=2, min_samples_leaf=8, max_depth=23, bootstrap=False, score=0.842, total=   0.0s\n",
      "[CV] n_estimators=20, min_samples_split=2, min_samples_leaf=8, max_depth=23, bootstrap=False \n",
      "[CV]  n_estimators=20, min_samples_split=2, min_samples_leaf=8, max_depth=23, bootstrap=False, score=0.822, total=   0.0s\n",
      "[CV] n_estimators=280, min_samples_split=2, min_samples_leaf=3, max_depth=34, bootstrap=True \n",
      "[CV]  n_estimators=280, min_samples_split=2, min_samples_leaf=3, max_depth=34, bootstrap=True, score=0.791, total=   0.5s\n",
      "[CV] n_estimators=280, min_samples_split=2, min_samples_leaf=3, max_depth=34, bootstrap=True \n",
      "[CV]  n_estimators=280, min_samples_split=2, min_samples_leaf=3, max_depth=34, bootstrap=True, score=0.848, total=   0.5s\n",
      "[CV] n_estimators=280, min_samples_split=2, min_samples_leaf=3, max_depth=34, bootstrap=True \n",
      "[CV]  n_estimators=280, min_samples_split=2, min_samples_leaf=3, max_depth=34, bootstrap=True, score=0.828, total=   0.5s\n",
      "[CV] n_estimators=80, min_samples_split=5, min_samples_leaf=2, max_depth=12, bootstrap=False \n",
      "[CV]  n_estimators=80, min_samples_split=5, min_samples_leaf=2, max_depth=12, bootstrap=False, score=0.791, total=   0.1s\n",
      "[CV] n_estimators=80, min_samples_split=5, min_samples_leaf=2, max_depth=12, bootstrap=False \n",
      "[CV]  n_estimators=80, min_samples_split=5, min_samples_leaf=2, max_depth=12, bootstrap=False, score=0.855, total=   0.1s\n",
      "[CV] n_estimators=80, min_samples_split=5, min_samples_leaf=2, max_depth=12, bootstrap=False \n",
      "[CV]  n_estimators=80, min_samples_split=5, min_samples_leaf=2, max_depth=12, bootstrap=False, score=0.832, total=   0.1s\n",
      "[CV] n_estimators=340, min_samples_split=7, min_samples_leaf=3, max_depth=100, bootstrap=False \n",
      "[CV]  n_estimators=340, min_samples_split=7, min_samples_leaf=3, max_depth=100, bootstrap=False, score=0.805, total=   0.6s\n",
      "[CV] n_estimators=340, min_samples_split=7, min_samples_leaf=3, max_depth=100, bootstrap=False \n"
     ]
    },
    {
     "name": "stdout",
     "output_type": "stream",
     "text": [
      "[CV]  n_estimators=340, min_samples_split=7, min_samples_leaf=3, max_depth=100, bootstrap=False, score=0.835, total=   0.6s\n",
      "[CV] n_estimators=340, min_samples_split=7, min_samples_leaf=3, max_depth=100, bootstrap=False \n",
      "[CV]  n_estimators=340, min_samples_split=7, min_samples_leaf=3, max_depth=100, bootstrap=False, score=0.838, total=   0.6s\n",
      "[CV] n_estimators=60, min_samples_split=3, min_samples_leaf=5, max_depth=56, bootstrap=True \n",
      "[CV]  n_estimators=60, min_samples_split=3, min_samples_leaf=5, max_depth=56, bootstrap=True, score=0.801, total=   0.1s\n",
      "[CV] n_estimators=60, min_samples_split=3, min_samples_leaf=5, max_depth=56, bootstrap=True \n",
      "[CV]  n_estimators=60, min_samples_split=3, min_samples_leaf=5, max_depth=56, bootstrap=True, score=0.828, total=   0.1s\n",
      "[CV] n_estimators=60, min_samples_split=3, min_samples_leaf=5, max_depth=56, bootstrap=True \n",
      "[CV]  n_estimators=60, min_samples_split=3, min_samples_leaf=5, max_depth=56, bootstrap=True, score=0.828, total=   0.2s\n",
      "[CV] n_estimators=360, min_samples_split=5, min_samples_leaf=8, max_depth=45, bootstrap=True \n",
      "[CV]  n_estimators=360, min_samples_split=5, min_samples_leaf=8, max_depth=45, bootstrap=True, score=0.815, total=   0.7s\n",
      "[CV] n_estimators=360, min_samples_split=5, min_samples_leaf=8, max_depth=45, bootstrap=True \n",
      "[CV]  n_estimators=360, min_samples_split=5, min_samples_leaf=8, max_depth=45, bootstrap=True, score=0.825, total=   0.6s\n",
      "[CV] n_estimators=360, min_samples_split=5, min_samples_leaf=8, max_depth=45, bootstrap=True \n",
      "[CV]  n_estimators=360, min_samples_split=5, min_samples_leaf=8, max_depth=45, bootstrap=True, score=0.818, total=   0.6s\n",
      "[CV] n_estimators=160, min_samples_split=2, min_samples_leaf=5, max_depth=23, bootstrap=False \n",
      "[CV]  n_estimators=160, min_samples_split=2, min_samples_leaf=5, max_depth=23, bootstrap=False, score=0.798, total=   0.3s\n",
      "[CV] n_estimators=160, min_samples_split=2, min_samples_leaf=5, max_depth=23, bootstrap=False \n",
      "[CV]  n_estimators=160, min_samples_split=2, min_samples_leaf=5, max_depth=23, bootstrap=False, score=0.852, total=   0.3s\n",
      "[CV] n_estimators=160, min_samples_split=2, min_samples_leaf=5, max_depth=23, bootstrap=False \n",
      "[CV]  n_estimators=160, min_samples_split=2, min_samples_leaf=5, max_depth=23, bootstrap=False, score=0.828, total=   0.3s\n",
      "[CV] n_estimators=140, min_samples_split=5, min_samples_leaf=3, max_depth=100, bootstrap=True \n",
      "[CV]  n_estimators=140, min_samples_split=5, min_samples_leaf=3, max_depth=100, bootstrap=True, score=0.791, total=   0.3s\n",
      "[CV] n_estimators=140, min_samples_split=5, min_samples_leaf=3, max_depth=100, bootstrap=True \n",
      "[CV]  n_estimators=140, min_samples_split=5, min_samples_leaf=3, max_depth=100, bootstrap=True, score=0.838, total=   0.3s\n",
      "[CV] n_estimators=140, min_samples_split=5, min_samples_leaf=3, max_depth=100, bootstrap=True \n",
      "[CV]  n_estimators=140, min_samples_split=5, min_samples_leaf=3, max_depth=100, bootstrap=True, score=0.825, total=   0.3s\n",
      "[CV] n_estimators=320, min_samples_split=3, min_samples_leaf=5, max_depth=1, bootstrap=True \n",
      "[CV]  n_estimators=320, min_samples_split=3, min_samples_leaf=5, max_depth=1, bootstrap=True, score=0.761, total=   0.5s\n",
      "[CV] n_estimators=320, min_samples_split=3, min_samples_leaf=5, max_depth=1, bootstrap=True \n",
      "[CV]  n_estimators=320, min_samples_split=3, min_samples_leaf=5, max_depth=1, bootstrap=True, score=0.818, total=   0.5s\n",
      "[CV] n_estimators=320, min_samples_split=3, min_samples_leaf=5, max_depth=1, bootstrap=True \n",
      "[CV]  n_estimators=320, min_samples_split=3, min_samples_leaf=5, max_depth=1, bootstrap=True, score=0.781, total=   0.5s\n",
      "[CV] n_estimators=80, min_samples_split=7, min_samples_leaf=5, max_depth=45, bootstrap=True \n",
      "[CV]  n_estimators=80, min_samples_split=7, min_samples_leaf=5, max_depth=45, bootstrap=True, score=0.791, total=   0.2s\n",
      "[CV] n_estimators=80, min_samples_split=7, min_samples_leaf=5, max_depth=45, bootstrap=True \n",
      "[CV]  n_estimators=80, min_samples_split=7, min_samples_leaf=5, max_depth=45, bootstrap=True, score=0.865, total=   0.2s\n",
      "[CV] n_estimators=80, min_samples_split=7, min_samples_leaf=5, max_depth=45, bootstrap=True \n",
      "[CV]  n_estimators=80, min_samples_split=7, min_samples_leaf=5, max_depth=45, bootstrap=True, score=0.815, total=   0.1s\n",
      "[CV] n_estimators=100, min_samples_split=8, min_samples_leaf=8, max_depth=1, bootstrap=True \n",
      "[CV]  n_estimators=100, min_samples_split=8, min_samples_leaf=8, max_depth=1, bootstrap=True, score=0.754, total=   0.2s\n",
      "[CV] n_estimators=100, min_samples_split=8, min_samples_leaf=8, max_depth=1, bootstrap=True \n",
      "[CV]  n_estimators=100, min_samples_split=8, min_samples_leaf=8, max_depth=1, bootstrap=True, score=0.811, total=   0.2s\n",
      "[CV] n_estimators=100, min_samples_split=8, min_samples_leaf=8, max_depth=1, bootstrap=True \n",
      "[CV]  n_estimators=100, min_samples_split=8, min_samples_leaf=8, max_depth=1, bootstrap=True, score=0.761, total=   0.2s\n",
      "[CV] n_estimators=20, min_samples_split=5, min_samples_leaf=5, max_depth=34, bootstrap=False \n",
      "[CV]  n_estimators=20, min_samples_split=5, min_samples_leaf=5, max_depth=34, bootstrap=False, score=0.815, total=   0.0s\n",
      "[CV] n_estimators=20, min_samples_split=5, min_samples_leaf=5, max_depth=34, bootstrap=False \n",
      "[CV]  n_estimators=20, min_samples_split=5, min_samples_leaf=5, max_depth=34, bootstrap=False, score=0.845, total=   0.0s\n",
      "[CV] n_estimators=20, min_samples_split=5, min_samples_leaf=5, max_depth=34, bootstrap=False \n",
      "[CV]  n_estimators=20, min_samples_split=5, min_samples_leaf=5, max_depth=34, bootstrap=False, score=0.828, total=   0.0s\n",
      "[CV] n_estimators=400, min_samples_split=7, min_samples_leaf=8, max_depth=1, bootstrap=True \n",
      "[CV]  n_estimators=400, min_samples_split=7, min_samples_leaf=8, max_depth=1, bootstrap=True, score=0.761, total=   0.6s\n",
      "[CV] n_estimators=400, min_samples_split=7, min_samples_leaf=8, max_depth=1, bootstrap=True \n",
      "[CV]  n_estimators=400, min_samples_split=7, min_samples_leaf=8, max_depth=1, bootstrap=True, score=0.808, total=   0.6s\n",
      "[CV] n_estimators=400, min_samples_split=7, min_samples_leaf=8, max_depth=1, bootstrap=True \n",
      "[CV]  n_estimators=400, min_samples_split=7, min_samples_leaf=8, max_depth=1, bootstrap=True, score=0.781, total=   0.6s\n",
      "[CV] n_estimators=140, min_samples_split=5, min_samples_leaf=8, max_depth=100, bootstrap=True \n",
      "[CV]  n_estimators=140, min_samples_split=5, min_samples_leaf=8, max_depth=100, bootstrap=True, score=0.801, total=   0.3s\n",
      "[CV] n_estimators=140, min_samples_split=5, min_samples_leaf=8, max_depth=100, bootstrap=True \n",
      "[CV]  n_estimators=140, min_samples_split=5, min_samples_leaf=8, max_depth=100, bootstrap=True, score=0.842, total=   0.3s\n",
      "[CV] n_estimators=140, min_samples_split=5, min_samples_leaf=8, max_depth=100, bootstrap=True \n",
      "[CV]  n_estimators=140, min_samples_split=5, min_samples_leaf=8, max_depth=100, bootstrap=True, score=0.808, total=   0.3s\n",
      "[CV] n_estimators=260, min_samples_split=8, min_samples_leaf=2, max_depth=23, bootstrap=True \n",
      "[CV]  n_estimators=260, min_samples_split=8, min_samples_leaf=2, max_depth=23, bootstrap=True, score=0.791, total=   0.5s\n",
      "[CV] n_estimators=260, min_samples_split=8, min_samples_leaf=2, max_depth=23, bootstrap=True \n",
      "[CV]  n_estimators=260, min_samples_split=8, min_samples_leaf=2, max_depth=23, bootstrap=True, score=0.852, total=   0.5s\n",
      "[CV] n_estimators=260, min_samples_split=8, min_samples_leaf=2, max_depth=23, bootstrap=True \n",
      "[CV]  n_estimators=260, min_samples_split=8, min_samples_leaf=2, max_depth=23, bootstrap=True, score=0.828, total=   0.5s\n",
      "[CV] n_estimators=240, min_samples_split=2, min_samples_leaf=5, max_depth=45, bootstrap=True \n",
      "[CV]  n_estimators=240, min_samples_split=2, min_samples_leaf=5, max_depth=45, bootstrap=True, score=0.795, total=   0.4s\n",
      "[CV] n_estimators=240, min_samples_split=2, min_samples_leaf=5, max_depth=45, bootstrap=True \n",
      "[CV]  n_estimators=240, min_samples_split=2, min_samples_leaf=5, max_depth=45, bootstrap=True, score=0.842, total=   0.4s\n",
      "[CV] n_estimators=240, min_samples_split=2, min_samples_leaf=5, max_depth=45, bootstrap=True \n",
      "[CV]  n_estimators=240, min_samples_split=2, min_samples_leaf=5, max_depth=45, bootstrap=True, score=0.828, total=   0.4s\n",
      "[CV] n_estimators=200, min_samples_split=2, min_samples_leaf=8, max_depth=56, bootstrap=False \n"
     ]
    },
    {
     "name": "stdout",
     "output_type": "stream",
     "text": [
      "[CV]  n_estimators=200, min_samples_split=2, min_samples_leaf=8, max_depth=56, bootstrap=False, score=0.798, total=   0.3s\n",
      "[CV] n_estimators=200, min_samples_split=2, min_samples_leaf=8, max_depth=56, bootstrap=False \n",
      "[CV]  n_estimators=200, min_samples_split=2, min_samples_leaf=8, max_depth=56, bootstrap=False, score=0.852, total=   0.3s\n",
      "[CV] n_estimators=200, min_samples_split=2, min_samples_leaf=8, max_depth=56, bootstrap=False \n",
      "[CV]  n_estimators=200, min_samples_split=2, min_samples_leaf=8, max_depth=56, bootstrap=False, score=0.822, total=   0.3s\n",
      "[CV] n_estimators=200, min_samples_split=5, min_samples_leaf=3, max_depth=12, bootstrap=False \n",
      "[CV]  n_estimators=200, min_samples_split=5, min_samples_leaf=3, max_depth=12, bootstrap=False, score=0.798, total=   0.3s\n",
      "[CV] n_estimators=200, min_samples_split=5, min_samples_leaf=3, max_depth=12, bootstrap=False \n",
      "[CV]  n_estimators=200, min_samples_split=5, min_samples_leaf=3, max_depth=12, bootstrap=False, score=0.845, total=   0.3s\n",
      "[CV] n_estimators=200, min_samples_split=5, min_samples_leaf=3, max_depth=12, bootstrap=False \n",
      "[CV]  n_estimators=200, min_samples_split=5, min_samples_leaf=3, max_depth=12, bootstrap=False, score=0.838, total=   0.4s\n",
      "[CV] n_estimators=300, min_samples_split=5, min_samples_leaf=3, max_depth=89, bootstrap=False \n",
      "[CV]  n_estimators=300, min_samples_split=5, min_samples_leaf=3, max_depth=89, bootstrap=False, score=0.798, total=   0.5s\n",
      "[CV] n_estimators=300, min_samples_split=5, min_samples_leaf=3, max_depth=89, bootstrap=False \n",
      "[CV]  n_estimators=300, min_samples_split=5, min_samples_leaf=3, max_depth=89, bootstrap=False, score=0.838, total=   0.5s\n",
      "[CV] n_estimators=300, min_samples_split=5, min_samples_leaf=3, max_depth=89, bootstrap=False \n",
      "[CV]  n_estimators=300, min_samples_split=5, min_samples_leaf=3, max_depth=89, bootstrap=False, score=0.838, total=   0.5s\n",
      "[CV] n_estimators=140, min_samples_split=5, min_samples_leaf=5, max_depth=56, bootstrap=True \n",
      "[CV]  n_estimators=140, min_samples_split=5, min_samples_leaf=5, max_depth=56, bootstrap=True, score=0.805, total=   0.3s\n",
      "[CV] n_estimators=140, min_samples_split=5, min_samples_leaf=5, max_depth=56, bootstrap=True \n",
      "[CV]  n_estimators=140, min_samples_split=5, min_samples_leaf=5, max_depth=56, bootstrap=True, score=0.842, total=   0.3s\n",
      "[CV] n_estimators=140, min_samples_split=5, min_samples_leaf=5, max_depth=56, bootstrap=True \n",
      "[CV]  n_estimators=140, min_samples_split=5, min_samples_leaf=5, max_depth=56, bootstrap=True, score=0.828, total=   0.3s\n",
      "[CV] n_estimators=360, min_samples_split=7, min_samples_leaf=5, max_depth=100, bootstrap=True \n",
      "[CV]  n_estimators=360, min_samples_split=7, min_samples_leaf=5, max_depth=100, bootstrap=True, score=0.785, total=   0.6s\n",
      "[CV] n_estimators=360, min_samples_split=7, min_samples_leaf=5, max_depth=100, bootstrap=True \n",
      "[CV]  n_estimators=360, min_samples_split=7, min_samples_leaf=5, max_depth=100, bootstrap=True, score=0.845, total=   0.6s\n",
      "[CV] n_estimators=360, min_samples_split=7, min_samples_leaf=5, max_depth=100, bootstrap=True \n",
      "[CV]  n_estimators=360, min_samples_split=7, min_samples_leaf=5, max_depth=100, bootstrap=True, score=0.822, total=   0.6s\n",
      "[CV] n_estimators=180, min_samples_split=3, min_samples_leaf=5, max_depth=56, bootstrap=False \n",
      "[CV]  n_estimators=180, min_samples_split=3, min_samples_leaf=5, max_depth=56, bootstrap=False, score=0.788, total=   0.3s\n",
      "[CV] n_estimators=180, min_samples_split=3, min_samples_leaf=5, max_depth=56, bootstrap=False \n",
      "[CV]  n_estimators=180, min_samples_split=3, min_samples_leaf=5, max_depth=56, bootstrap=False, score=0.845, total=   0.3s\n",
      "[CV] n_estimators=180, min_samples_split=3, min_samples_leaf=5, max_depth=56, bootstrap=False \n",
      "[CV]  n_estimators=180, min_samples_split=3, min_samples_leaf=5, max_depth=56, bootstrap=False, score=0.828, total=   0.3s\n",
      "[CV] n_estimators=60, min_samples_split=7, min_samples_leaf=2, max_depth=12, bootstrap=True \n",
      "[CV]  n_estimators=60, min_samples_split=7, min_samples_leaf=2, max_depth=12, bootstrap=True, score=0.798, total=   0.1s\n",
      "[CV] n_estimators=60, min_samples_split=7, min_samples_leaf=2, max_depth=12, bootstrap=True \n",
      "[CV]  n_estimators=60, min_samples_split=7, min_samples_leaf=2, max_depth=12, bootstrap=True, score=0.855, total=   0.1s\n",
      "[CV] n_estimators=60, min_samples_split=7, min_samples_leaf=2, max_depth=12, bootstrap=True \n",
      "[CV]  n_estimators=60, min_samples_split=7, min_samples_leaf=2, max_depth=12, bootstrap=True, score=0.825, total=   0.1s\n",
      "[CV] n_estimators=220, min_samples_split=8, min_samples_leaf=3, max_depth=100, bootstrap=False \n",
      "[CV]  n_estimators=220, min_samples_split=8, min_samples_leaf=3, max_depth=100, bootstrap=False, score=0.795, total=   0.4s\n",
      "[CV] n_estimators=220, min_samples_split=8, min_samples_leaf=3, max_depth=100, bootstrap=False \n",
      "[CV]  n_estimators=220, min_samples_split=8, min_samples_leaf=3, max_depth=100, bootstrap=False, score=0.845, total=   0.4s\n",
      "[CV] n_estimators=220, min_samples_split=8, min_samples_leaf=3, max_depth=100, bootstrap=False \n",
      "[CV]  n_estimators=220, min_samples_split=8, min_samples_leaf=3, max_depth=100, bootstrap=False, score=0.835, total=   0.4s\n",
      "[CV] n_estimators=80, min_samples_split=5, min_samples_leaf=3, max_depth=89, bootstrap=True \n",
      "[CV]  n_estimators=80, min_samples_split=5, min_samples_leaf=3, max_depth=89, bootstrap=True, score=0.801, total=   0.2s\n",
      "[CV] n_estimators=80, min_samples_split=5, min_samples_leaf=3, max_depth=89, bootstrap=True \n",
      "[CV]  n_estimators=80, min_samples_split=5, min_samples_leaf=3, max_depth=89, bootstrap=True, score=0.845, total=   0.2s\n",
      "[CV] n_estimators=80, min_samples_split=5, min_samples_leaf=3, max_depth=89, bootstrap=True \n",
      "[CV]  n_estimators=80, min_samples_split=5, min_samples_leaf=3, max_depth=89, bootstrap=True, score=0.828, total=   0.2s\n"
     ]
    },
    {
     "name": "stderr",
     "output_type": "stream",
     "text": [
      "[Parallel(n_jobs=1)]: Done 300 out of 300 | elapsed:  1.7min finished\n"
     ]
    },
    {
     "data": {
      "text/plain": [
       "RandomizedSearchCV(cv=3, estimator=RandomForestClassifier(), n_iter=100,\n",
       "                   param_distributions={'bootstrap': [True, False],\n",
       "                                        'max_depth': [1, 12, 23, 34, 45, 56, 67,\n",
       "                                                      78, 89, 100],\n",
       "                                        'min_samples_leaf': [2, 3, 5, 8],\n",
       "                                        'min_samples_split': [2, 3, 5, 7, 8],\n",
       "                                        'n_estimators': [20, 40, 60, 80, 100,\n",
       "                                                         120, 140, 160, 180,\n",
       "                                                         200, 220, 240, 260,\n",
       "                                                         280, 300, 320, 340,\n",
       "                                                         360, 380, 400]},\n",
       "                   verbose=5)"
      ]
     },
     "execution_count": 58,
     "metadata": {},
     "output_type": "execute_result"
    }
   ],
   "source": [
    "random.fit(x,y)"
   ]
  },
  {
   "cell_type": "raw",
   "metadata": {},
   "source": []
  },
  {
   "cell_type": "code",
   "execution_count": 59,
   "metadata": {},
   "outputs": [
    {
     "data": {
      "text/plain": [
       "RandomForestClassifier(max_depth=34, min_samples_leaf=3, min_samples_split=3,\n",
       "                       n_estimators=200)"
      ]
     },
     "execution_count": 59,
     "metadata": {},
     "output_type": "execute_result"
    }
   ],
   "source": [
    "random.best_estimator_"
   ]
  },
  {
   "cell_type": "code",
   "execution_count": 60,
   "metadata": {},
   "outputs": [],
   "source": [
    "rf = RandomForestClassifier(max_depth=34, min_samples_leaf=3, min_samples_split=3,\n",
    "                       n_estimators=200)"
   ]
  },
  {
   "cell_type": "code",
   "execution_count": 61,
   "metadata": {},
   "outputs": [
    {
     "data": {
      "text/plain": [
       "RandomForestClassifier(max_depth=34, min_samples_leaf=3, min_samples_split=3,\n",
       "                       n_estimators=200)"
      ]
     },
     "execution_count": 61,
     "metadata": {},
     "output_type": "execute_result"
    }
   ],
   "source": [
    "rf.fit(x,y)"
   ]
  },
  {
   "cell_type": "code",
   "execution_count": 62,
   "metadata": {},
   "outputs": [],
   "source": [
    "prediction1 = rf.predict(test)"
   ]
  },
  {
   "cell_type": "code",
   "execution_count": 63,
   "metadata": {},
   "outputs": [
    {
     "data": {
      "text/html": [
       "<div>\n",
       "<style scoped>\n",
       "    .dataframe tbody tr th:only-of-type {\n",
       "        vertical-align: middle;\n",
       "    }\n",
       "\n",
       "    .dataframe tbody tr th {\n",
       "        vertical-align: top;\n",
       "    }\n",
       "\n",
       "    .dataframe thead th {\n",
       "        text-align: right;\n",
       "    }\n",
       "</style>\n",
       "<table border=\"1\" class=\"dataframe\">\n",
       "  <thead>\n",
       "    <tr style=\"text-align: right;\">\n",
       "      <th></th>\n",
       "      <th>PassengerId</th>\n",
       "      <th>Survived</th>\n",
       "    </tr>\n",
       "  </thead>\n",
       "  <tbody>\n",
       "    <tr>\n",
       "      <th>0</th>\n",
       "      <td>892</td>\n",
       "      <td>0</td>\n",
       "    </tr>\n",
       "    <tr>\n",
       "      <th>1</th>\n",
       "      <td>893</td>\n",
       "      <td>0</td>\n",
       "    </tr>\n",
       "    <tr>\n",
       "      <th>2</th>\n",
       "      <td>894</td>\n",
       "      <td>0</td>\n",
       "    </tr>\n",
       "    <tr>\n",
       "      <th>3</th>\n",
       "      <td>895</td>\n",
       "      <td>0</td>\n",
       "    </tr>\n",
       "    <tr>\n",
       "      <th>4</th>\n",
       "      <td>896</td>\n",
       "      <td>0</td>\n",
       "    </tr>\n",
       "  </tbody>\n",
       "</table>\n",
       "</div>"
      ],
      "text/plain": [
       "   PassengerId  Survived\n",
       "0          892         0\n",
       "1          893         0\n",
       "2          894         0\n",
       "3          895         0\n",
       "4          896         0"
      ]
     },
     "execution_count": 63,
     "metadata": {},
     "output_type": "execute_result"
    }
   ],
   "source": [
    "output = pd.DataFrame({'PassengerId' : test_x.PassengerId, 'Survived':prediction1})\n",
    "output.to_csv('Submission.csv', index = False)\n",
    "output.head()"
   ]
  },
  {
   "cell_type": "code",
   "execution_count": null,
   "metadata": {},
   "outputs": [],
   "source": []
  }
 ],
 "metadata": {
  "kernelspec": {
   "display_name": "Python 3 (ipykernel)",
   "language": "python",
   "name": "python3"
  },
  "language_info": {
   "codemirror_mode": {
    "name": "ipython",
    "version": 3
   },
   "file_extension": ".py",
   "mimetype": "text/x-python",
   "name": "python",
   "nbconvert_exporter": "python",
   "pygments_lexer": "ipython3",
   "version": "3.10.8"
  }
 },
 "nbformat": 4,
 "nbformat_minor": 4
}
